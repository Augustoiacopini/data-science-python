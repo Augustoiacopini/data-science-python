	
metadata	
kernelspec	
language	"python"
display_name	"Python 3"
name	"python3"
language_info	
name	"python"
version	"3.7.12"
mimetype	"text/x-python"
codemirror_mode	
name	"ipython"
version	3
pygments_lexer	"ipython3"
nbconvert_exporter	"python"
file_extension	".py"
nbformat_minor	4
nbformat	4
cells	
0	
cell_type	"code"
source	"import numpy as np # linear algebra\nimport pandas as pd # data processing, CSV file I/O (e.g. pd.read_csv)\nimport os\nfor dirname, _, filenames in os.walk('/kaggle/input'):\n    for filename in filenames:\n        print(os.path.join(dirname, filename))"
metadata	
_uuid	"8f2839f25d086af736a60e9eeb907d3b93b6e0e5"
_cell_guid	"b1076dfc-b9ad-4769-8c92-a6c4dae69d19"
execution	
iopub.status.busy	"2022-09-21T02:30:02.825391Z"
iopub.execute_input	"2022-09-21T02:30:02.826434Z"
iopub.status.idle	"2022-09-21T02:30:02.838903Z"
shell.execute_reply.started	"2022-09-21T02:30:02.826334Z"
shell.execute_reply	"2022-09-21T02:30:02.837376Z"
trusted	true
execution_count	1
outputs	
0	
name	"stdout"
text	"/kaggle/input/titanic/train.csv\n/kaggle/input/titanic/test.csv\n/kaggle/input/titanic/gender_submission.csv\n"
output_type	"stream"
1	
cell_type	"code"
source	"#dataFrames\n\ntrain_data = pd.read_csv('/kaggle/input/titanic/train.csv')\ngender_sub = pd.read_csv('/kaggle/input/titanic/gender_submission.csv')\n"
metadata	
execution	
iopub.status.busy	"2022-09-21T02:30:04.963684Z"
iopub.execute_input	"2022-09-21T02:30:04.964102Z"
iopub.status.idle	"2022-09-21T02:30:04.978035Z"
shell.execute_reply.started	"2022-09-21T02:30:04.964066Z"
shell.execute_reply	"2022-09-21T02:30:04.977126Z"
trusted	true
execution_count	2
outputs	[]
2	
cell_type	"code"
source	"test_data = pd.read_csv('/kaggle/input/titanic/test.csv')"
metadata	
execution	
iopub.status.busy	"2022-09-21T02:30:06.861013Z"
iopub.execute_input	"2022-09-21T02:30:06.861415Z"
iopub.status.idle	"2022-09-21T02:30:06.871550Z"
shell.execute_reply.started	"2022-09-21T02:30:06.861382Z"
shell.execute_reply	"2022-09-21T02:30:06.870568Z"
trusted	true
execution_count	3
outputs	[]
3	
cell_type	"code"
source	"train_data.head() #datos de entrenamiento"
metadata	
execution	
iopub.status.busy	"2022-09-21T02:30:07.982291Z"
iopub.execute_input	"2022-09-21T02:30:07.982642Z"
iopub.status.idle	"2022-09-21T02:30:08.005103Z"
shell.execute_reply.started	"2022-09-21T02:30:07.982610Z"
shell.execute_reply	"2022-09-21T02:30:08.004245Z"
trusted	true
execution_count	4
outputs	
0	
execution_count	4
output_type	"execute_result"
data	
text/plain	"   PassengerId  Survived  Pclass  \\\n0            1         0       3   \n1            2         1       1   \n2            3         1       3   \n3            4         1       1   \n4            5         0       3   \n\n                                                Name     Sex   Age  SibSp  \\\n0                            Braund, Mr. Owen Harris    male  22.0      1   \n1  Cumings, Mrs. John Bradley (Florence Briggs Th...  female  38.0      1   \n2                             Heikkinen, Miss. Laina  female  26.0      0   \n3       Futrelle, Mrs. Jacques Heath (Lily May Peel)  female  35.0      1   \n4                           Allen, Mr. William Henry    male  35.0      0   \n\n   Parch            Ticket     Fare Cabin Embarked  \n0      0         A/5 21171   7.2500   NaN        S  \n1      0          PC 17599  71.2833   C85        C  \n2      0  STON/O2. 3101282   7.9250   NaN        S  \n3      0            113803  53.1000  C123        S  \n4      0            373450   8.0500   NaN        S  "
text/html	"<div>\n<style scoped>\n    .dataframe tbody tr th:only-of-type {\n        vertical-align: middle;\n    }\n\n    .dataframe tbody tr th {\n        vertical-align: top;\n    }\n\n    .dataframe thead th {\n        text-align: right;\n    }\n</style>\n<table border=\"1\" class=\"dataframe\">\n  <thead>\n    <tr style=\"text-align: right;\">\n      <th></th>\n      <th>PassengerId</th>\n      <th>Survived</th>\n      <th>Pclass</th>\n      <th>Name</th>\n      <th>Sex</th>\n      <th>Age</th>\n      <th>SibSp</th>\n      <th>Parch</th>\n      <th>Ticket</th>\n      <th>Fare</th>\n      <th>Cabin</th>\n      <th>Embarked</th>\n    </tr>\n  </thead>\n  <tbody>\n    <tr>\n      <th>0</th>\n      <td>1</td>\n      <td>0</td>\n      <td>3</td>\n      <td>Braund, Mr. Owen Harris</td>\n      <td>male</td>\n      <td>22.0</td>\n      <td>1</td>\n      <td>0</td>\n      <td>A/5 21171</td>\n      <td>7.2500</td>\n      <td>NaN</td>\n      <td>S</td>\n    </tr>\n    <tr>\n      <th>1</th>\n      <td>2</td>\n      <td>1</td>\n      <td>1</td>\n      <td>Cumings, Mrs. John Bradley (Florence Briggs Th...</td>\n      <td>female</td>\n      <td>38.0</td>\n      <td>1</td>\n      <td>0</td>\n      <td>PC 17599</td>\n      <td>71.2833</td>\n      <td>C85</td>\n      <td>C</td>\n    </tr>\n    <tr>\n      <th>2</th>\n      <td>3</td>\n      <td>1</td>\n      <td>3</td>\n      <td>Heikkinen, Miss. Laina</td>\n      <td>female</td>\n      <td>26.0</td>\n      <td>0</td>\n      <td>0</td>\n      <td>STON/O2. 3101282</td>\n      <td>7.9250</td>\n      <td>NaN</td>\n      <td>S</td>\n    </tr>\n    <tr>\n      <th>3</th>\n      <td>4</td>\n      <td>1</td>\n      <td>1</td>\n      <td>Futrelle, Mrs. Jacques Heath (Lily May Peel)</td>\n      <td>female</td>\n      <td>35.0</td>\n      <td>1</td>\n      <td>0</td>\n      <td>113803</td>\n      <td>53.1000</td>\n      <td>C123</td>\n      <td>S</td>\n    </tr>\n    <tr>\n      <th>4</th>\n      <td>5</td>\n      <td>0</td>\n      <td>3</td>\n      <td>Allen, Mr. William Henry</td>\n      <td>male</td>\n      <td>35.0</td>\n      <td>0</td>\n      <td>0</td>\n      <td>373450</td>\n      <td>8.0500</td>\n      <td>NaN</td>\n      <td>S</td>\n    </tr>\n  </tbody>\n</table>\n</div>"
metadata	{}
4	
cell_type	"code"
source	"test_data.head() #datos de prueba"
metadata	
execution	
iopub.status.busy	"2022-09-21T02:30:09.513782Z"
iopub.execute_input	"2022-09-21T02:30:09.514494Z"
iopub.status.idle	"2022-09-21T02:30:09.531958Z"
shell.execute_reply.started	"2022-09-21T02:30:09.514458Z"
shell.execute_reply	"2022-09-21T02:30:09.530880Z"
trusted	true
execution_count	5
outputs	
0	
execution_count	5
output_type	"execute_result"
data	
text/plain	"   PassengerId  Pclass                                          Name     Sex  \\\n0          892       3                              Kelly, Mr. James    male   \n1          893       3              Wilkes, Mrs. James (Ellen Needs)  female   \n2          894       2                     Myles, Mr. Thomas Francis    male   \n3          895       3                              Wirz, Mr. Albert    male   \n4          896       3  Hirvonen, Mrs. Alexander (Helga E Lindqvist)  female   \n\n    Age  SibSp  Parch   Ticket     Fare Cabin Embarked  \n0  34.5      0      0   330911   7.8292   NaN        Q  \n1  47.0      1      0   363272   7.0000   NaN        S  \n2  62.0      0      0   240276   9.6875   NaN        Q  \n3  27.0      0      0   315154   8.6625   NaN        S  \n4  22.0      1      1  3101298  12.2875   NaN        S  "
text/html	"<div>\n<style scoped>\n    .dataframe tbody tr th:only-of-type {\n        vertical-align: middle;\n    }\n\n    .dataframe tbody tr th {\n        vertical-align: top;\n    }\n\n    .dataframe thead th {\n        text-align: right;\n    }\n</style>\n<table border=\"1\" class=\"dataframe\">\n  <thead>\n    <tr style=\"text-align: right;\">\n      <th></th>\n      <th>PassengerId</th>\n      <th>Pclass</th>\n      <th>Name</th>\n      <th>Sex</th>\n      <th>Age</th>\n      <th>SibSp</th>\n      <th>Parch</th>\n      <th>Ticket</th>\n      <th>Fare</th>\n      <th>Cabin</th>\n      <th>Embarked</th>\n    </tr>\n  </thead>\n  <tbody>\n    <tr>\n      <th>0</th>\n      <td>892</td>\n      <td>3</td>\n      <td>Kelly, Mr. James</td>\n      <td>male</td>\n      <td>34.5</td>\n      <td>0</td>\n      <td>0</td>\n      <td>330911</td>\n      <td>7.8292</td>\n      <td>NaN</td>\n      <td>Q</td>\n    </tr>\n    <tr>\n      <th>1</th>\n      <td>893</td>\n      <td>3</td>\n      <td>Wilkes, Mrs. James (Ellen Needs)</td>\n      <td>female</td>\n      <td>47.0</td>\n      <td>1</td>\n      <td>0</td>\n      <td>363272</td>\n      <td>7.0000</td>\n      <td>NaN</td>\n      <td>S</td>\n    </tr>\n    <tr>\n      <th>2</th>\n      <td>894</td>\n      <td>2</td>\n      <td>Myles, Mr. Thomas Francis</td>\n      <td>male</td>\n      <td>62.0</td>\n      <td>0</td>\n      <td>0</td>\n      <td>240276</td>\n      <td>9.6875</td>\n      <td>NaN</td>\n      <td>Q</td>\n    </tr>\n    <tr>\n      <th>3</th>\n      <td>895</td>\n      <td>3</td>\n      <td>Wirz, Mr. Albert</td>\n      <td>male</td>\n      <td>27.0</td>\n      <td>0</td>\n      <td>0</td>\n      <td>315154</td>\n      <td>8.6625</td>\n      <td>NaN</td>\n      <td>S</td>\n    </tr>\n    <tr>\n      <th>4</th>\n      <td>896</td>\n      <td>3</td>\n      <td>Hirvonen, Mrs. Alexander (Helga E Lindqvist)</td>\n      <td>female</td>\n      <td>22.0</td>\n      <td>1</td>\n      <td>1</td>\n      <td>3101298</td>\n      <td>12.2875</td>\n      <td>NaN</td>\n      <td>S</td>\n    </tr>\n  </tbody>\n</table>\n</div>"
metadata	{}
5	
cell_type	"code"
source	"gender_sub.head() #ejemplo"
metadata	
execution	
iopub.status.busy	"2022-09-21T02:30:10.652309Z"
iopub.execute_input	"2022-09-21T02:30:10.652678Z"
iopub.status.idle	"2022-09-21T02:30:10.662084Z"
shell.execute_reply.started	"2022-09-21T02:30:10.652646Z"
shell.execute_reply	"2022-09-21T02:30:10.661015Z"
trusted	true
execution_count	6
outputs	
0	
execution_count	6
output_type	"execute_result"
data	
text/plain	"   PassengerId  Survived\n0          892         0\n1          893         1\n2          894         0\n3          895         0\n4          896         1"
text/html	"<div>\n<style scoped>\n    .dataframe tbody tr th:only-of-type {\n        vertical-align: middle;\n    }\n\n    .dataframe tbody tr th {\n        vertical-align: top;\n    }\n\n    .dataframe thead th {\n        text-align: right;\n    }\n</style>\n<table border=\"1\" class=\"dataframe\">\n  <thead>\n    <tr style=\"text-align: right;\">\n      <th></th>\n      <th>PassengerId</th>\n      <th>Survived</th>\n    </tr>\n  </thead>\n  <tbody>\n    <tr>\n      <th>0</th>\n      <td>892</td>\n      <td>0</td>\n    </tr>\n    <tr>\n      <th>1</th>\n      <td>893</td>\n      <td>1</td>\n    </tr>\n    <tr>\n      <th>2</th>\n      <td>894</td>\n      <td>0</td>\n    </tr>\n    <tr>\n      <th>3</th>\n      <td>895</td>\n      <td>0</td>\n    </tr>\n    <tr>\n      <th>4</th>\n      <td>896</td>\n      <td>1</td>\n    </tr>\n  </tbody>\n</table>\n</div>"
metadata	{}
6	
cell_type	"markdown"
source	"1.  preprocesamiento de datos"
metadata	{}
7	
cell_type	"markdown"
source	"Vamos a descartar datos nulos"
metadata	{}
8	
cell_type	"code"
source	"train_data.isnull().sum() #NaN en el conjunto de datos de "
metadata	
execution	
iopub.status.busy	"2022-09-21T02:30:16.018640Z"
iopub.execute_input	"2022-09-21T02:30:16.019037Z"
iopub.status.idle	"2022-09-21T02:30:16.031384Z"
shell.execute_reply.started	"2022-09-21T02:30:16.018995Z"
shell.execute_reply	"2022-09-21T02:30:16.030250Z"
trusted	true
execution_count	7
outputs	
0	
execution_count	7
output_type	"execute_result"
data	
text/plain	"PassengerId      0\nSurvived         0\nPclass           0\nName             0\nSex              0\nAge            177\nSibSp            0\nParch            0\nTicket           0\nFare             0\nCabin          687\nEmbarked         2\ndtype: int64"
metadata	{}
9	
cell_type	"code"
source	"train_data"
metadata	
execution	
iopub.status.busy	"2022-09-21T02:30:17.224658Z"
iopub.execute_input	"2022-09-21T02:30:17.225041Z"
iopub.status.idle	"2022-09-21T02:30:17.249500Z"
shell.execute_reply.started	"2022-09-21T02:30:17.225007Z"
shell.execute_reply	"2022-09-21T02:30:17.248542Z"
trusted	true
execution_count	8
outputs	
0	
execution_count	8
output_type	"execute_result"
data	
text/plain	"     PassengerId  Survived  Pclass  \\\n0              1         0       3   \n1              2         1       1   \n2              3         1       3   \n3              4         1       1   \n4              5         0       3   \n..           ...       ...     ...   \n886          887         0       2   \n887          888         1       1   \n888          889         0       3   \n889          890         1       1   \n890          891         0       3   \n\n                                                  Name     Sex   Age  SibSp  \\\n0                              Braund, Mr. Owen Harris    male  22.0      1   \n1    Cumings, Mrs. John Bradley (Florence Briggs Th...  female  38.0      1   \n2                               Heikkinen, Miss. Laina  female  26.0      0   \n3         Futrelle, Mrs. Jacques Heath (Lily May Peel)  female  35.0      1   \n4                             Allen, Mr. William Henry    male  35.0      0   \n..                                                 ...     ...   ...    ...   \n886                              Montvila, Rev. Juozas    male  27.0      0   \n887                       Graham, Miss. Margaret Edith  female  19.0      0   \n888           Johnston, Miss. Catherine Helen \"Carrie\"  female   NaN      1   \n889                              Behr, Mr. Karl Howell    male  26.0      0   \n890                                Dooley, Mr. Patrick    male  32.0      0   \n\n     Parch            Ticket     Fare Cabin Embarked  \n0        0         A/5 21171   7.2500   NaN        S  \n1        0          PC 17599  71.2833   C85        C  \n2        0  STON/O2. 3101282   7.9250   NaN        S  \n3        0            113803  53.1000  C123        S  \n4        0            373450   8.0500   NaN        S  \n..     ...               ...      ...   ...      ...  \n886      0            211536  13.0000   NaN        S  \n887      0            112053  30.0000   B42        S  \n888      2        W./C. 6607  23.4500   NaN        S  \n889      0            111369  30.0000  C148        C  \n890      0            370376   7.7500   NaN        Q  \n\n[891 rows x 12 columns]"
text/html	"<div>\n<style scoped>\n    .dataframe tbody tr th:only-of-type {\n        vertical-align: middle;\n    }\n\n    .dataframe tbody tr th {\n        vertical-align: top;\n    }\n\n    .dataframe thead th {\n        text-align: right;\n    }\n</style>\n<table border=\"1\" class=\"dataframe\">\n  <thead>\n    <tr style=\"text-align: right;\">\n      <th></th>\n      <th>PassengerId</th>\n      <th>Survived</th>\n      <th>Pclass</th>\n      <th>Name</th>\n      <th>Sex</th>\n      <th>Age</th>\n      <th>SibSp</th>\n      <th>Parch</th>\n      <th>Ticket</th>\n      <th>Fare</th>\n      <th>Cabin</th>\n      <th>Embarked</th>\n    </tr>\n  </thead>\n  <tbody>\n    <tr>\n      <th>0</th>\n      <td>1</td>\n      <td>0</td>\n      <td>3</td>\n      <td>Braund, Mr. Owen Harris</td>\n      <td>male</td>\n      <td>22.0</td>\n      <td>1</td>\n      <td>0</td>\n      <td>A/5 21171</td>\n      <td>7.2500</td>\n      <td>NaN</td>\n      <td>S</td>\n    </tr>\n    <tr>\n      <th>1</th>\n      <td>2</td>\n      <td>1</td>\n      <td>1</td>\n      <td>Cumings, Mrs. John Bradley (Florence Briggs Th...</td>\n      <td>female</td>\n      <td>38.0</td>\n      <td>1</td>\n      <td>0</td>\n      <td>PC 17599</td>\n      <td>71.2833</td>\n      <td>C85</td>\n      <td>C</td>\n    </tr>\n    <tr>\n      <th>2</th>\n      <td>3</td>\n      <td>1</td>\n      <td>3</td>\n      <td>Heikkinen, Miss. Laina</td>\n      <td>female</td>\n      <td>26.0</td>\n      <td>0</td>\n      <td>0</td>\n      <td>STON/O2. 3101282</td>\n      <td>7.9250</td>\n      <td>NaN</td>\n      <td>S</td>\n    </tr>\n    <tr>\n      <th>3</th>\n      <td>4</td>\n      <td>1</td>\n      <td>1</td>\n      <td>Futrelle, Mrs. Jacques Heath (Lily May Peel)</td>\n      <td>female</td>\n      <td>35.0</td>\n      <td>1</td>\n      <td>0</td>\n      <td>113803</td>\n      <td>53.1000</td>\n      <td>C123</td>\n      <td>S</td>\n    </tr>\n    <tr>\n      <th>4</th>\n      <td>5</td>\n      <td>0</td>\n      <td>3</td>\n      <td>Allen, Mr. William Henry</td>\n      <td>male</td>\n      <td>35.0</td>\n      <td>0</td>\n      <td>0</td>\n      <td>373450</td>\n      <td>8.0500</td>\n      <td>NaN</td>\n      <td>S</td>\n    </tr>\n    <tr>\n      <th>...</th>\n      <td>...</td>\n      <td>...</td>\n      <td>...</td>\n      <td>...</td>\n      <td>...</td>\n      <td>...</td>\n      <td>...</td>\n      <td>...</td>\n      <td>...</td>\n      <td>...</td>\n      <td>...</td>\n      <td>...</td>\n    </tr>\n    <tr>\n      <th>886</th>\n      <td>887</td>\n      <td>0</td>\n      <td>2</td>\n      <td>Montvila, Rev. Juozas</td>\n      <td>male</td>\n      <td>27.0</td>\n      <td>0</td>\n      <td>0</td>\n      <td>211536</td>\n      <td>13.0000</td>\n      <td>NaN</td>\n      <td>S</td>\n    </tr>\n    <tr>\n      <th>887</th>\n      <td>888</td>\n      <td>1</td>\n      <td>1</td>\n      <td>Graham, Miss. Margaret Edith</td>\n      <td>female</td>\n      <td>19.0</td>\n      <td>0</td>\n      <td>0</td>\n      <td>112053</td>\n      <td>30.0000</td>\n      <td>B42</td>\n      <td>S</td>\n    </tr>\n    <tr>\n      <th>888</th>\n      <td>889</td>\n      <td>0</td>\n      <td>3</td>\n      <td>Johnston, Miss. Catherine Helen \"Carrie\"</td>\n      <td>female</td>\n      <td>NaN</td>\n      <td>1</td>\n      <td>2</td>\n      <td>W./C. 6607</td>\n      <td>23.4500</td>\n      <td>NaN</td>\n      <td>S</td>\n    </tr>\n    <tr>\n      <th>889</th>\n      <td>890</td>\n      <td>1</td>\n      <td>1</td>\n      <td>Behr, Mr. Karl Howell</td>\n      <td>male</td>\n      <td>26.0</td>\n      <td>0</td>\n      <td>0</td>\n      <td>111369</td>\n      <td>30.0000</td>\n      <td>C148</td>\n      <td>C</td>\n    </tr>\n    <tr>\n      <th>890</th>\n      <td>891</td>\n      <td>0</td>\n      <td>3</td>\n      <td>Dooley, Mr. Patrick</td>\n      <td>male</td>\n      <td>32.0</td>\n      <td>0</td>\n      <td>0</td>\n      <td>370376</td>\n      <td>7.7500</td>\n      <td>NaN</td>\n      <td>Q</td>\n    </tr>\n  </tbody>\n</table>\n<p>891 rows × 12 columns</p>\n</div>"
metadata	{}
10	
cell_type	"code"
source	"train_data.dtypes"
metadata	
execution	
iopub.status.busy	"2022-09-21T02:30:18.681368Z"
iopub.execute_input	"2022-09-21T02:30:18.681982Z"
iopub.status.idle	"2022-09-21T02:30:18.689486Z"
shell.execute_reply.started	"2022-09-21T02:30:18.681945Z"
shell.execute_reply	"2022-09-21T02:30:18.688471Z"
trusted	true
execution_count	9
outputs	
0	
execution_count	9
output_type	"execute_result"
data	
text/plain	"PassengerId      int64\nSurvived         int64\nPclass           int64\nName            object\nSex             object\nAge            float64\nSibSp            int64\nParch            int64\nTicket          object\nFare           float64\nCabin           object\nEmbarked        object\ndtype: object"
metadata	{}
11	
cell_type	"code"
source	"#eliminamos la columna Name y Ticket \ntrain_data = train_data.drop(['Ticket'], axis=1)\ntrain_data = train_data.drop(['Name'], axis=1)"
metadata	
execution	
iopub.status.busy	"2022-09-21T02:30:20.280181Z"
iopub.execute_input	"2022-09-21T02:30:20.281001Z"
iopub.status.idle	"2022-09-21T02:30:20.290427Z"
shell.execute_reply.started	"2022-09-21T02:30:20.280957Z"
shell.execute_reply	"2022-09-21T02:30:20.289226Z"
trusted	true
execution_count	10
outputs	[]
12	
cell_type	"code"
source	"train_data.dtypes"
metadata	
execution	
iopub.status.busy	"2022-09-21T02:30:21.469807Z"
iopub.execute_input	"2022-09-21T02:30:21.470522Z"
iopub.status.idle	"2022-09-21T02:30:21.478467Z"
shell.execute_reply.started	"2022-09-21T02:30:21.470484Z"
shell.execute_reply	"2022-09-21T02:30:21.477394Z"
trusted	true
execution_count	11
outputs	
0	
execution_count	11
output_type	"execute_result"
data	
text/plain	"PassengerId      int64\nSurvived         int64\nPclass           int64\nSex             object\nAge            float64\nSibSp            int64\nParch            int64\nFare           float64\nCabin           object\nEmbarked        object\ndtype: object"
metadata	{}
13	
cell_type	"code"
source	"#vamos a analizar la columna cabin\nprint('promedio de personas por cabina: ', train_data.Cabin.size/train_data.Cabin.unique().size)\nprint('nulos:', train_data.Cabin.isnull().sum(), 'de', train_data.Cabin.values.size, ' datos')"
metadata	
execution	
iopub.status.busy	"2022-09-21T02:30:22.690140Z"
iopub.execute_input	"2022-09-21T02:30:22.690494Z"
iopub.status.idle	"2022-09-21T02:30:22.698089Z"
shell.execute_reply.started	"2022-09-21T02:30:22.690462Z"
shell.execute_reply	"2022-09-21T02:30:22.696934Z"
trusted	true
execution_count	12
outputs	
0	
name	"stdout"
text	"promedio de personas por cabina:  6.02027027027027\nnulos: 687 de 891  datos\n"
output_type	"stream"
14	
cell_type	"code"
source	"print('eliminamos la columna por una cantidad excesiva de datos nulos: ', (train_data.Cabin.isnull().sum()*100) / (train_data.Cabin.values.size), '%')"
metadata	
execution	
iopub.status.busy	"2022-09-21T02:30:23.929547Z"
iopub.execute_input	"2022-09-21T02:30:23.930451Z"
iopub.status.idle	"2022-09-21T02:30:23.937909Z"
shell.execute_reply.started	"2022-09-21T02:30:23.930401Z"
shell.execute_reply	"2022-09-21T02:30:23.936792Z"
trusted	true
execution_count	13
outputs	
0	
name	"stdout"
text	"eliminamos la columna por una cantidad excesiva de datos nulos:  77.10437710437711 %\n"
output_type	"stream"
15	
cell_type	"code"
source	"train_data = train_data.drop(['Cabin'], axis=1)"
metadata	
execution	
iopub.status.busy	"2022-09-21T02:30:25.101453Z"
iopub.execute_input	"2022-09-21T02:30:25.102510Z"
iopub.status.idle	"2022-09-21T02:30:25.108983Z"
shell.execute_reply.started	"2022-09-21T02:30:25.102460Z"
shell.execute_reply	"2022-09-21T02:30:25.108003Z"
trusted	true
execution_count	14
outputs	[]
16	
cell_type	"code"
source	"train_data.head()"
metadata	
execution	
iopub.status.busy	"2022-09-21T02:30:26.597552Z"
iopub.execute_input	"2022-09-21T02:30:26.597924Z"
iopub.status.idle	"2022-09-21T02:30:26.612364Z"
shell.execute_reply.started	"2022-09-21T02:30:26.597891Z"
shell.execute_reply	"2022-09-21T02:30:26.611373Z"
trusted	true
execution_count	15
outputs	
0	
execution_count	15
output_type	"execute_result"
data	
text/plain	"   PassengerId  Survived  Pclass     Sex   Age  SibSp  Parch     Fare Embarked\n0            1         0       3    male  22.0      1      0   7.2500        S\n1            2         1       1  female  38.0      1      0  71.2833        C\n2            3         1       3  female  26.0      0      0   7.9250        S\n3            4         1       1  female  35.0      1      0  53.1000        S\n4            5         0       3    male  35.0      0      0   8.0500        S"
text/html	"<div>\n<style scoped>\n    .dataframe tbody tr th:only-of-type {\n        vertical-align: middle;\n    }\n\n    .dataframe tbody tr th {\n        vertical-align: top;\n    }\n\n    .dataframe thead th {\n        text-align: right;\n    }\n</style>\n<table border=\"1\" class=\"dataframe\">\n  <thead>\n    <tr style=\"text-align: right;\">\n      <th></th>\n      <th>PassengerId</th>\n      <th>Survived</th>\n      <th>Pclass</th>\n      <th>Sex</th>\n      <th>Age</th>\n      <th>SibSp</th>\n      <th>Parch</th>\n      <th>Fare</th>\n      <th>Embarked</th>\n    </tr>\n  </thead>\n  <tbody>\n    <tr>\n      <th>0</th>\n      <td>1</td>\n      <td>0</td>\n      <td>3</td>\n      <td>male</td>\n      <td>22.0</td>\n      <td>1</td>\n      <td>0</td>\n      <td>7.2500</td>\n      <td>S</td>\n    </tr>\n    <tr>\n      <th>1</th>\n      <td>2</td>\n      <td>1</td>\n      <td>1</td>\n      <td>female</td>\n      <td>38.0</td>\n      <td>1</td>\n      <td>0</td>\n      <td>71.2833</td>\n      <td>C</td>\n    </tr>\n    <tr>\n      <th>2</th>\n      <td>3</td>\n      <td>1</td>\n      <td>3</td>\n      <td>female</td>\n      <td>26.0</td>\n      <td>0</td>\n      <td>0</td>\n      <td>7.9250</td>\n      <td>S</td>\n    </tr>\n    <tr>\n      <th>3</th>\n      <td>4</td>\n      <td>1</td>\n      <td>1</td>\n      <td>female</td>\n      <td>35.0</td>\n      <td>1</td>\n      <td>0</td>\n      <td>53.1000</td>\n      <td>S</td>\n    </tr>\n    <tr>\n      <th>4</th>\n      <td>5</td>\n      <td>0</td>\n      <td>3</td>\n      <td>male</td>\n      <td>35.0</td>\n      <td>0</td>\n      <td>0</td>\n      <td>8.0500</td>\n      <td>S</td>\n    </tr>\n  </tbody>\n</table>\n</div>"
metadata	{}
17	
cell_type	"markdown"
source	"variables categoricas"
metadata	{}
18	
cell_type	"code"
source	"puert_em = pd.get_dummies(train_data[['Embarked']])"
metadata	
execution	
iopub.status.busy	"2022-09-21T02:30:29.916075Z"
iopub.execute_input	"2022-09-21T02:30:29.916731Z"
iopub.status.idle	"2022-09-21T02:30:29.926067Z"
shell.execute_reply.started	"2022-09-21T02:30:29.916693Z"
shell.execute_reply	"2022-09-21T02:30:29.924984Z"
trusted	true
execution_count	16
outputs	[]
19	
cell_type	"code"
source	"train_data = train_data.drop(['Embarked'], axis=1)"
metadata	
execution	
iopub.status.busy	"2022-09-21T02:30:31.382829Z"
iopub.execute_input	"2022-09-21T02:30:31.383218Z"
iopub.status.idle	"2022-09-21T02:30:31.389426Z"
shell.execute_reply.started	"2022-09-21T02:30:31.383185Z"
shell.execute_reply	"2022-09-21T02:30:31.388311Z"
trusted	true
execution_count	17
outputs	[]
20	
cell_type	"code"
source	"train_data = pd.concat([train_data, puert_em], axis=1)"
metadata	
execution	
iopub.status.busy	"2022-09-21T02:30:32.574367Z"
iopub.execute_input	"2022-09-21T02:30:32.575055Z"
iopub.status.idle	"2022-09-21T02:30:32.581593Z"
shell.execute_reply.started	"2022-09-21T02:30:32.575016Z"
shell.execute_reply	"2022-09-21T02:30:32.580475Z"
trusted	true
execution_count	18
outputs	[]
21	
cell_type	"code"
source	"train_data"
metadata	
execution	
iopub.status.busy	"2022-09-21T02:30:33.872442Z"
iopub.execute_input	"2022-09-21T02:30:33.872804Z"
iopub.status.idle	"2022-09-21T02:30:33.892746Z"
shell.execute_reply.started	"2022-09-21T02:30:33.872773Z"
shell.execute_reply	"2022-09-21T02:30:33.891877Z"
trusted	true
execution_count	19
outputs	
0	
execution_count	19
output_type	"execute_result"
data	
text/plain	"     PassengerId  Survived  Pclass     Sex   Age  SibSp  Parch     Fare  \\\n0              1         0       3    male  22.0      1      0   7.2500   \n1              2         1       1  female  38.0      1      0  71.2833   \n2              3         1       3  female  26.0      0      0   7.9250   \n3              4         1       1  female  35.0      1      0  53.1000   \n4              5         0       3    male  35.0      0      0   8.0500   \n..           ...       ...     ...     ...   ...    ...    ...      ...   \n886          887         0       2    male  27.0      0      0  13.0000   \n887          888         1       1  female  19.0      0      0  30.0000   \n888          889         0       3  female   NaN      1      2  23.4500   \n889          890         1       1    male  26.0      0      0  30.0000   \n890          891         0       3    male  32.0      0      0   7.7500   \n\n     Embarked_C  Embarked_Q  Embarked_S  \n0             0           0           1  \n1             1           0           0  \n2             0           0           1  \n3             0           0           1  \n4             0           0           1  \n..          ...         ...         ...  \n886           0           0           1  \n887           0           0           1  \n888           0           0           1  \n889           1           0           0  \n890           0           1           0  \n\n[891 rows x 11 columns]"
text/html	"<div>\n<style scoped>\n    .dataframe tbody tr th:only-of-type {\n        vertical-align: middle;\n    }\n\n    .dataframe tbody tr th {\n        vertical-align: top;\n    }\n\n    .dataframe thead th {\n        text-align: right;\n    }\n</style>\n<table border=\"1\" class=\"dataframe\">\n  <thead>\n    <tr style=\"text-align: right;\">\n      <th></th>\n      <th>PassengerId</th>\n      <th>Survived</th>\n      <th>Pclass</th>\n      <th>Sex</th>\n      <th>Age</th>\n      <th>SibSp</th>\n      <th>Parch</th>\n      <th>Fare</th>\n      <th>Embarked_C</th>\n      <th>Embarked_Q</th>\n      <th>Embarked_S</th>\n    </tr>\n  </thead>\n  <tbody>\n    <tr>\n      <th>0</th>\n      <td>1</td>\n      <td>0</td>\n      <td>3</td>\n      <td>male</td>\n      <td>22.0</td>\n      <td>1</td>\n      <td>0</td>\n      <td>7.2500</td>\n      <td>0</td>\n      <td>0</td>\n      <td>1</td>\n    </tr>\n    <tr>\n      <th>1</th>\n      <td>2</td>\n      <td>1</td>\n      <td>1</td>\n      <td>female</td>\n      <td>38.0</td>\n      <td>1</td>\n      <td>0</td>\n      <td>71.2833</td>\n      <td>1</td>\n      <td>0</td>\n      <td>0</td>\n    </tr>\n    <tr>\n      <th>2</th>\n      <td>3</td>\n      <td>1</td>\n      <td>3</td>\n      <td>female</td>\n      <td>26.0</td>\n      <td>0</td>\n      <td>0</td>\n      <td>7.9250</td>\n      <td>0</td>\n      <td>0</td>\n      <td>1</td>\n    </tr>\n    <tr>\n      <th>3</th>\n      <td>4</td>\n      <td>1</td>\n      <td>1</td>\n      <td>female</td>\n      <td>35.0</td>\n      <td>1</td>\n      <td>0</td>\n      <td>53.1000</td>\n      <td>0</td>\n      <td>0</td>\n      <td>1</td>\n    </tr>\n    <tr>\n      <th>4</th>\n      <td>5</td>\n      <td>0</td>\n      <td>3</td>\n      <td>male</td>\n      <td>35.0</td>\n      <td>0</td>\n      <td>0</td>\n      <td>8.0500</td>\n      <td>0</td>\n      <td>0</td>\n      <td>1</td>\n    </tr>\n    <tr>\n      <th>...</th>\n      <td>...</td>\n      <td>...</td>\n      <td>...</td>\n      <td>...</td>\n      <td>...</td>\n      <td>...</td>\n      <td>...</td>\n      <td>...</td>\n      <td>...</td>\n      <td>...</td>\n      <td>...</td>\n    </tr>\n    <tr>\n      <th>886</th>\n      <td>887</td>\n      <td>0</td>\n      <td>2</td>\n      <td>male</td>\n      <td>27.0</td>\n      <td>0</td>\n      <td>0</td>\n      <td>13.0000</td>\n      <td>0</td>\n      <td>0</td>\n      <td>1</td>\n    </tr>\n    <tr>\n      <th>887</th>\n      <td>888</td>\n      <td>1</td>\n      <td>1</td>\n      <td>female</td>\n      <td>19.0</td>\n      <td>0</td>\n      <td>0</td>\n      <td>30.0000</td>\n      <td>0</td>\n      <td>0</td>\n      <td>1</td>\n    </tr>\n    <tr>\n      <th>888</th>\n      <td>889</td>\n      <td>0</td>\n      <td>3</td>\n      <td>female</td>\n      <td>NaN</td>\n      <td>1</td>\n      <td>2</td>\n      <td>23.4500</td>\n      <td>0</td>\n      <td>0</td>\n      <td>1</td>\n    </tr>\n    <tr>\n      <th>889</th>\n      <td>890</td>\n      <td>1</td>\n      <td>1</td>\n      <td>male</td>\n      <td>26.0</td>\n      <td>0</td>\n      <td>0</td>\n      <td>30.0000</td>\n      <td>1</td>\n      <td>0</td>\n      <td>0</td>\n    </tr>\n    <tr>\n      <th>890</th>\n      <td>891</td>\n      <td>0</td>\n      <td>3</td>\n      <td>male</td>\n      <td>32.0</td>\n      <td>0</td>\n      <td>0</td>\n      <td>7.7500</td>\n      <td>0</td>\n      <td>1</td>\n      <td>0</td>\n    </tr>\n  </tbody>\n</table>\n<p>891 rows × 11 columns</p>\n</div>"
metadata	{}
22	
cell_type	"code"
source	"Sex = pd.get_dummies(train_data[['Sex']])"
metadata	
execution	
iopub.status.busy	"2022-09-21T02:30:39.351700Z"
iopub.execute_input	"2022-09-21T02:30:39.352068Z"
iopub.status.idle	"2022-09-21T02:30:39.362166Z"
shell.execute_reply.started	"2022-09-21T02:30:39.352035Z"
shell.execute_reply	"2022-09-21T02:30:39.361069Z"
trusted	true
execution_count	20
outputs	[]
23	
cell_type	"code"
source	"train_data = train_data.drop(['Sex'], axis=1)"
metadata	
execution	
iopub.status.busy	"2022-09-21T02:30:40.444220Z"
iopub.execute_input	"2022-09-21T02:30:40.444585Z"
iopub.status.idle	"2022-09-21T02:30:40.450740Z"
shell.execute_reply.started	"2022-09-21T02:30:40.444553Z"
shell.execute_reply	"2022-09-21T02:30:40.449696Z"
trusted	true
execution_count	21
outputs	[]
24	
cell_type	"code"
source	"train_data = pd.concat([train_data, Sex], axis=1)"
metadata	
execution	
iopub.status.busy	"2022-09-21T02:30:41.664889Z"
iopub.execute_input	"2022-09-21T02:30:41.665257Z"
iopub.status.idle	"2022-09-21T02:30:41.672183Z"
shell.execute_reply.started	"2022-09-21T02:30:41.665226Z"
shell.execute_reply	"2022-09-21T02:30:41.670990Z"
trusted	true
execution_count	22
outputs	[]
25	
cell_type	"code"
source	"train_data"
metadata	
execution	
iopub.status.busy	"2022-09-21T02:30:43.572792Z"
iopub.execute_input	"2022-09-21T02:30:43.573507Z"
iopub.status.idle	"2022-09-21T02:30:43.595315Z"
shell.execute_reply.started	"2022-09-21T02:30:43.573463Z"
shell.execute_reply	"2022-09-21T02:30:43.594295Z"
trusted	true
execution_count	23
outputs	
0	
execution_count	23
output_type	"execute_result"
data	
text/plain	"     PassengerId  Survived  Pclass   Age  SibSp  Parch     Fare  Embarked_C  \\\n0              1         0       3  22.0      1      0   7.2500           0   \n1              2         1       1  38.0      1      0  71.2833           1   \n2              3         1       3  26.0      0      0   7.9250           0   \n3              4         1       1  35.0      1      0  53.1000           0   \n4              5         0       3  35.0      0      0   8.0500           0   \n..           ...       ...     ...   ...    ...    ...      ...         ...   \n886          887         0       2  27.0      0      0  13.0000           0   \n887          888         1       1  19.0      0      0  30.0000           0   \n888          889         0       3   NaN      1      2  23.4500           0   \n889          890         1       1  26.0      0      0  30.0000           1   \n890          891         0       3  32.0      0      0   7.7500           0   \n\n     Embarked_Q  Embarked_S  Sex_female  Sex_male  \n0             0           1           0         1  \n1             0           0           1         0  \n2             0           1           1         0  \n3             0           1           1         0  \n4             0           1           0         1  \n..          ...         ...         ...       ...  \n886           0           1           0         1  \n887           0           1           1         0  \n888           0           1           1         0  \n889           0           0           0         1  \n890           1           0           0         1  \n\n[891 rows x 12 columns]"
text/html	"<div>\n<style scoped>\n    .dataframe tbody tr th:only-of-type {\n        vertical-align: middle;\n    }\n\n    .dataframe tbody tr th {\n        vertical-align: top;\n    }\n\n    .dataframe thead th {\n        text-align: right;\n    }\n</style>\n<table border=\"1\" class=\"dataframe\">\n  <thead>\n    <tr style=\"text-align: right;\">\n      <th></th>\n      <th>PassengerId</th>\n      <th>Survived</th>\n      <th>Pclass</th>\n      <th>Age</th>\n      <th>SibSp</th>\n      <th>Parch</th>\n      <th>Fare</th>\n      <th>Embarked_C</th>\n      <th>Embarked_Q</th>\n      <th>Embarked_S</th>\n      <th>Sex_female</th>\n      <th>Sex_male</th>\n    </tr>\n  </thead>\n  <tbody>\n    <tr>\n      <th>0</th>\n      <td>1</td>\n      <td>0</td>\n      <td>3</td>\n      <td>22.0</td>\n      <td>1</td>\n      <td>0</td>\n      <td>7.2500</td>\n      <td>0</td>\n      <td>0</td>\n      <td>1</td>\n      <td>0</td>\n      <td>1</td>\n    </tr>\n    <tr>\n      <th>1</th>\n      <td>2</td>\n      <td>1</td>\n      <td>1</td>\n      <td>38.0</td>\n      <td>1</td>\n      <td>0</td>\n      <td>71.2833</td>\n      <td>1</td>\n      <td>0</td>\n      <td>0</td>\n      <td>1</td>\n      <td>0</td>\n    </tr>\n    <tr>\n      <th>2</th>\n      <td>3</td>\n      <td>1</td>\n      <td>3</td>\n      <td>26.0</td>\n      <td>0</td>\n      <td>0</td>\n      <td>7.9250</td>\n      <td>0</td>\n      <td>0</td>\n      <td>1</td>\n      <td>1</td>\n      <td>0</td>\n    </tr>\n    <tr>\n      <th>3</th>\n      <td>4</td>\n      <td>1</td>\n      <td>1</td>\n      <td>35.0</td>\n      <td>1</td>\n      <td>0</td>\n      <td>53.1000</td>\n      <td>0</td>\n      <td>0</td>\n      <td>1</td>\n      <td>1</td>\n      <td>0</td>\n    </tr>\n    <tr>\n      <th>4</th>\n      <td>5</td>\n      <td>0</td>\n      <td>3</td>\n      <td>35.0</td>\n      <td>0</td>\n      <td>0</td>\n      <td>8.0500</td>\n      <td>0</td>\n      <td>0</td>\n      <td>1</td>\n      <td>0</td>\n      <td>1</td>\n    </tr>\n    <tr>\n      <th>...</th>\n      <td>...</td>\n      <td>...</td>\n      <td>...</td>\n      <td>...</td>\n      <td>...</td>\n      <td>...</td>\n      <td>...</td>\n      <td>...</td>\n      <td>...</td>\n      <td>...</td>\n      <td>...</td>\n      <td>...</td>\n    </tr>\n    <tr>\n      <th>886</th>\n      <td>887</td>\n      <td>0</td>\n      <td>2</td>\n      <td>27.0</td>\n      <td>0</td>\n      <td>0</td>\n      <td>13.0000</td>\n      <td>0</td>\n      <td>0</td>\n      <td>1</td>\n      <td>0</td>\n      <td>1</td>\n    </tr>\n    <tr>\n      <th>887</th>\n      <td>888</td>\n      <td>1</td>\n      <td>1</td>\n      <td>19.0</td>\n      <td>0</td>\n      <td>0</td>\n      <td>30.0000</td>\n      <td>0</td>\n      <td>0</td>\n      <td>1</td>\n      <td>1</td>\n      <td>0</td>\n    </tr>\n    <tr>\n      <th>888</th>\n      <td>889</td>\n      <td>0</td>\n      <td>3</td>\n      <td>NaN</td>\n      <td>1</td>\n      <td>2</td>\n      <td>23.4500</td>\n      <td>0</td>\n      <td>0</td>\n      <td>1</td>\n      <td>1</td>\n      <td>0</td>\n    </tr>\n    <tr>\n      <th>889</th>\n      <td>890</td>\n      <td>1</td>\n      <td>1</td>\n      <td>26.0</td>\n      <td>0</td>\n      <td>0</td>\n      <td>30.0000</td>\n      <td>1</td>\n      <td>0</td>\n      <td>0</td>\n      <td>0</td>\n      <td>1</td>\n    </tr>\n    <tr>\n      <th>890</th>\n      <td>891</td>\n      <td>0</td>\n      <td>3</td>\n      <td>32.0</td>\n      <td>0</td>\n      <td>0</td>\n      <td>7.7500</td>\n      <td>0</td>\n      <td>1</td>\n      <td>0</td>\n      <td>0</td>\n      <td>1</td>\n    </tr>\n  </tbody>\n</table>\n<p>891 rows × 12 columns</p>\n</div>"
metadata	{}
26	
cell_type	"code"
source	"train_data = train_data.dropna()"
metadata	
execution	
iopub.status.busy	"2022-09-21T02:30:44.690328Z"
iopub.execute_input	"2022-09-21T02:30:44.690720Z"
iopub.status.idle	"2022-09-21T02:30:44.700667Z"
shell.execute_reply.started	"2022-09-21T02:30:44.690689Z"
shell.execute_reply	"2022-09-21T02:30:44.699367Z"
trusted	true
execution_count	24
outputs	[]
27	
cell_type	"code"
source	"train_data.head(10)"
metadata	
execution	
iopub.status.busy	"2022-09-21T02:30:46.043352Z"
iopub.execute_input	"2022-09-21T02:30:46.043735Z"
iopub.status.idle	"2022-09-21T02:30:46.059912Z"
shell.execute_reply.started	"2022-09-21T02:30:46.043701Z"
shell.execute_reply	"2022-09-21T02:30:46.058742Z"
trusted	true
execution_count	25
outputs	
0	
execution_count	25
output_type	"execute_result"
data	
text/plain	"    PassengerId  Survived  Pclass   Age  SibSp  Parch     Fare  Embarked_C  \\\n0             1         0       3  22.0      1      0   7.2500           0   \n1             2         1       1  38.0      1      0  71.2833           1   \n2             3         1       3  26.0      0      0   7.9250           0   \n3             4         1       1  35.0      1      0  53.1000           0   \n4             5         0       3  35.0      0      0   8.0500           0   \n6             7         0       1  54.0      0      0  51.8625           0   \n7             8         0       3   2.0      3      1  21.0750           0   \n8             9         1       3  27.0      0      2  11.1333           0   \n9            10         1       2  14.0      1      0  30.0708           1   \n10           11         1       3   4.0      1      1  16.7000           0   \n\n    Embarked_Q  Embarked_S  Sex_female  Sex_male  \n0            0           1           0         1  \n1            0           0           1         0  \n2            0           1           1         0  \n3            0           1           1         0  \n4            0           1           0         1  \n6            0           1           0         1  \n7            0           1           0         1  \n8            0           1           1         0  \n9            0           0           1         0  \n10           0           1           1         0  "
text/html	"<div>\n<style scoped>\n    .dataframe tbody tr th:only-of-type {\n        vertical-align: middle;\n    }\n\n    .dataframe tbody tr th {\n        vertical-align: top;\n    }\n\n    .dataframe thead th {\n        text-align: right;\n    }\n</style>\n<table border=\"1\" class=\"dataframe\">\n  <thead>\n    <tr style=\"text-align: right;\">\n      <th></th>\n      <th>PassengerId</th>\n      <th>Survived</th>\n      <th>Pclass</th>\n      <th>Age</th>\n      <th>SibSp</th>\n      <th>Parch</th>\n      <th>Fare</th>\n      <th>Embarked_C</th>\n      <th>Embarked_Q</th>\n      <th>Embarked_S</th>\n      <th>Sex_female</th>\n      <th>Sex_male</th>\n    </tr>\n  </thead>\n  <tbody>\n    <tr>\n      <th>0</th>\n      <td>1</td>\n      <td>0</td>\n      <td>3</td>\n      <td>22.0</td>\n      <td>1</td>\n      <td>0</td>\n      <td>7.2500</td>\n      <td>0</td>\n      <td>0</td>\n      <td>1</td>\n      <td>0</td>\n      <td>1</td>\n    </tr>\n    <tr>\n      <th>1</th>\n      <td>2</td>\n      <td>1</td>\n      <td>1</td>\n      <td>38.0</td>\n      <td>1</td>\n      <td>0</td>\n      <td>71.2833</td>\n      <td>1</td>\n      <td>0</td>\n      <td>0</td>\n      <td>1</td>\n      <td>0</td>\n    </tr>\n    <tr>\n      <th>2</th>\n      <td>3</td>\n      <td>1</td>\n      <td>3</td>\n      <td>26.0</td>\n      <td>0</td>\n      <td>0</td>\n      <td>7.9250</td>\n      <td>0</td>\n      <td>0</td>\n      <td>1</td>\n      <td>1</td>\n      <td>0</td>\n    </tr>\n    <tr>\n      <th>3</th>\n      <td>4</td>\n      <td>1</td>\n      <td>1</td>\n      <td>35.0</td>\n      <td>1</td>\n      <td>0</td>\n      <td>53.1000</td>\n      <td>0</td>\n      <td>0</td>\n      <td>1</td>\n      <td>1</td>\n      <td>0</td>\n    </tr>\n    <tr>\n      <th>4</th>\n      <td>5</td>\n      <td>0</td>\n      <td>3</td>\n      <td>35.0</td>\n      <td>0</td>\n      <td>0</td>\n      <td>8.0500</td>\n      <td>0</td>\n      <td>0</td>\n      <td>1</td>\n      <td>0</td>\n      <td>1</td>\n    </tr>\n    <tr>\n      <th>6</th>\n      <td>7</td>\n      <td>0</td>\n      <td>1</td>\n      <td>54.0</td>\n      <td>0</td>\n      <td>0</td>\n      <td>51.8625</td>\n      <td>0</td>\n      <td>0</td>\n      <td>1</td>\n      <td>0</td>\n      <td>1</td>\n    </tr>\n    <tr>\n      <th>7</th>\n      <td>8</td>\n      <td>0</td>\n      <td>3</td>\n      <td>2.0</td>\n      <td>3</td>\n      <td>1</td>\n      <td>21.0750</td>\n      <td>0</td>\n      <td>0</td>\n      <td>1</td>\n      <td>0</td>\n      <td>1</td>\n    </tr>\n    <tr>\n      <th>8</th>\n      <td>9</td>\n      <td>1</td>\n      <td>3</td>\n      <td>27.0</td>\n      <td>0</td>\n      <td>2</td>\n      <td>11.1333</td>\n      <td>0</td>\n      <td>0</td>\n      <td>1</td>\n      <td>1</td>\n      <td>0</td>\n    </tr>\n    <tr>\n      <th>9</th>\n      <td>10</td>\n      <td>1</td>\n      <td>2</td>\n      <td>14.0</td>\n      <td>1</td>\n      <td>0</td>\n      <td>30.0708</td>\n      <td>1</td>\n      <td>0</td>\n      <td>0</td>\n      <td>1</td>\n      <td>0</td>\n    </tr>\n    <tr>\n      <th>10</th>\n      <td>11</td>\n      <td>1</td>\n      <td>3</td>\n      <td>4.0</td>\n      <td>1</td>\n      <td>1</td>\n      <td>16.7000</td>\n      <td>0</td>\n      <td>0</td>\n      <td>1</td>\n      <td>1</td>\n      <td>0</td>\n    </tr>\n  </tbody>\n</table>\n</div>"
metadata	{}
28	
cell_type	"code"
source	"train_data.Fare.unique()"
metadata	
execution	
iopub.status.busy	"2022-09-21T02:30:47.674778Z"
iopub.execute_input	"2022-09-21T02:30:47.676011Z"
iopub.status.idle	"2022-09-21T02:30:47.686551Z"
shell.execute_reply.started	"2022-09-21T02:30:47.675961Z"
shell.execute_reply	"2022-09-21T02:30:47.685263Z"
trusted	true
execution_count	26
outputs	
0	
execution_count	26
output_type	"execute_result"
data	
text/plain	"array([  7.25  ,  71.2833,   7.925 ,  53.1   ,   8.05  ,  51.8625,\n        21.075 ,  11.1333,  30.0708,  16.7   ,  26.55  ,  31.275 ,\n         7.8542,  16.    ,  29.125 ,  18.    ,  26.    ,  13.    ,\n         8.0292,  35.5   ,  31.3875, 263.    ,  27.7208,  10.5   ,\n        82.1708,  52.    ,  11.2417,   9.475 ,  21.    ,  41.5792,\n         7.8792,  17.8   ,  39.6875,   7.8   ,  76.7292,  61.9792,\n         7.2292,  27.75  ,  46.9   ,  80.    ,  83.475 ,  27.9   ,\n         8.1583,   8.6625,  73.5   ,  14.4542,  56.4958,   7.65  ,\n        29.    ,  12.475 ,   9.    ,   9.5   ,  47.1   ,  15.85  ,\n        34.375 ,  61.175 ,  20.575 ,  34.6542,  63.3583,  23.    ,\n         7.8958,  77.2875,   8.6542,   9.825 ,  14.4583,   7.75  ,\n       247.5208,   7.1417,   6.975 ,   7.05  ,  14.5   ,  15.0458,\n        26.2833,   9.2167,  79.2   ,   6.75  ,  11.5   ,  36.75  ,\n         7.7958,  12.525 ,  66.6   ,  61.3792,   7.7333,  16.1   ,\n        15.75  ,   7.775 ,  20.525 ,  33.5   ,  30.6958,  28.7125,\n         0.    ,  39.    ,  22.025 ,  15.5   , 146.5208,   8.4042,\n         6.4958,   7.225 ,  10.4625,  18.7875,  31.    , 113.275 ,\n        27.    ,  76.2917,  90.    ,   9.35  ,  13.5   ,  26.25  ,\n        12.275 ,   7.125 ,  52.5542,  20.2125,  15.2458,  86.5   ,\n       512.3292,  79.65  , 153.4625, 135.6333,  19.5   ,  29.7   ,\n        77.9583,  20.25  ,  78.85  ,  91.0792,  12.875 ,   8.85  ,\n       151.55  , 108.9   ,  24.    ,  56.9292,  83.1583, 262.375 ,\n        14.    , 164.8667, 134.5   ,  12.35  ,   6.2375,  57.9792,\n        28.5   ,  15.9   ,   9.225 ,  55.    ,  75.25  ,  69.3   ,\n        55.4417, 211.5   ,   4.0125, 227.525 ,  15.7417,  12.    ,\n       120.    ,  12.65  ,  18.75  ,  32.5   ,  24.15  ,   7.875 ,\n        14.4   ,  55.9   ,  81.8583,  19.2583,  30.5   ,  89.1042,\n        38.5   ,  13.7917,   9.8375,   7.0458,   7.5208,  12.2875,\n         9.5875,  49.5042,  78.2667,  22.525 ,  26.2875,  59.4   ,\n         7.4958,  34.0208,  93.5   , 106.425 ,  49.5   ,  71.    ,\n       110.8833,  39.6   ,  17.4   ,  51.4792,  26.3875,  30.    ,\n        40.125 ,  15.    ,  15.55  ,  65.    ,  32.3208,   7.0542,\n         7.55  ,   8.4333, 133.65  ,  25.5875,   9.8417,  10.1708,\n       211.3375,  57.    ,  13.4167,   7.7417,   9.4833,  33.    ,\n         8.3625,  25.9292,   8.6833,   8.5167,   7.8875,  37.0042,\n         6.45  ,   8.3   ,   6.4375,  39.4   ,  14.1083,  13.8583,\n        50.4958,   5.    ,   9.8458,  10.5167])"
metadata	{}
29	
cell_type	"code"
source	"train_data['Pclass']=train_data['Pclass'].replace([1,2,3],['class_1','class_2','class_3'])"
metadata	
execution	
iopub.status.busy	"2022-09-21T02:30:49.088547Z"
iopub.execute_input	"2022-09-21T02:30:49.088927Z"
iopub.status.idle	"2022-09-21T02:30:49.096031Z"
shell.execute_reply.started	"2022-09-21T02:30:49.088890Z"
shell.execute_reply	"2022-09-21T02:30:49.094936Z"
trusted	true
execution_count	27
outputs	
0	
name	"stderr"
text	"/opt/conda/lib/python3.7/site-packages/ipykernel_launcher.py:1: SettingWithCopyWarning: \nA value is trying to be set on a copy of a slice from a DataFrame.\nTry using .loc[row_indexer,col_indexer] = value instead\n\nSee the caveats in the documentation: https://pandas.pydata.org/pandas-docs/stable/user_guide/indexing.html#returning-a-view-versus-a-copy\n  \"\"\"Entry point for launching an IPython kernel.\n"
output_type	"stream"
30	
cell_type	"code"
source	"clase = pd.get_dummies(train_data[['Pclass']])"
metadata	
execution	
iopub.status.busy	"2022-09-21T02:31:17.555840Z"
iopub.execute_input	"2022-09-21T02:31:17.556819Z"
iopub.status.idle	"2022-09-21T02:31:17.565800Z"
shell.execute_reply.started	"2022-09-21T02:31:17.556774Z"
shell.execute_reply	"2022-09-21T02:31:17.564828Z"
trusted	true
execution_count	31
outputs	[]
31	
cell_type	"code"
source	"train_data = train_data.drop(['Pclass'], axis=1)"
metadata	
execution	
iopub.status.busy	"2022-09-21T02:31:18.564322Z"
iopub.execute_input	"2022-09-21T02:31:18.564673Z"
iopub.status.idle	"2022-09-21T02:31:18.570975Z"
shell.execute_reply.started	"2022-09-21T02:31:18.564643Z"
shell.execute_reply	"2022-09-21T02:31:18.569928Z"
trusted	true
execution_count	32
outputs	[]
32	
cell_type	"code"
source	"train_data = pd.concat([train_data, clase], axis=1)"
metadata	
execution	
iopub.status.busy	"2022-09-21T02:31:19.647400Z"
iopub.execute_input	"2022-09-21T02:31:19.648126Z"
iopub.status.idle	"2022-09-21T02:31:19.655255Z"
shell.execute_reply.started	"2022-09-21T02:31:19.648087Z"
shell.execute_reply	"2022-09-21T02:31:19.653193Z"
trusted	true
execution_count	33
outputs	[]
33	
cell_type	"code"
source	"train_data = train_data.drop(['PassengerId'], axis=1)"
metadata	
execution	
iopub.status.busy	"2022-09-21T02:31:20.696032Z"
iopub.execute_input	"2022-09-21T02:31:20.696393Z"
iopub.status.idle	"2022-09-21T02:31:20.704307Z"
shell.execute_reply.started	"2022-09-21T02:31:20.696363Z"
shell.execute_reply	"2022-09-21T02:31:20.703113Z"
trusted	true
execution_count	34
outputs	[]
34	
cell_type	"code"
source	"train_data.head(10)"
metadata	
execution	
iopub.status.busy	"2022-09-21T02:31:36.111583Z"
iopub.execute_input	"2022-09-21T02:31:36.111966Z"
iopub.status.idle	"2022-09-21T02:31:36.128164Z"
shell.execute_reply.started	"2022-09-21T02:31:36.111934Z"
shell.execute_reply	"2022-09-21T02:31:36.127127Z"
trusted	true
execution_count	36
outputs	
0	
execution_count	36
output_type	"execute_result"
data	
text/plain	"    Survived   Age  SibSp  Parch     Fare  Embarked_C  Embarked_Q  Embarked_S  \\\n0          0  22.0      1      0   7.2500           0           0           1   \n1          1  38.0      1      0  71.2833           1           0           0   \n2          1  26.0      0      0   7.9250           0           0           1   \n3          1  35.0      1      0  53.1000           0           0           1   \n4          0  35.0      0      0   8.0500           0           0           1   \n6          0  54.0      0      0  51.8625           0           0           1   \n7          0   2.0      3      1  21.0750           0           0           1   \n8          1  27.0      0      2  11.1333           0           0           1   \n9          1  14.0      1      0  30.0708           1           0           0   \n10         1   4.0      1      1  16.7000           0           0           1   \n\n    Sex_female  Sex_male  Pclass_class_1  Pclass_class_2  Pclass_class_3  \n0            0         1               0               0               1  \n1            1         0               1               0               0  \n2            1         0               0               0               1  \n3            1         0               1               0               0  \n4            0         1               0               0               1  \n6            0         1               1               0               0  \n7            0         1               0               0               1  \n8            1         0               0               0               1  \n9            1         0               0               1               0  \n10           1         0               0               0               1  "
text/html	"<div>\n<style scoped>\n    .dataframe tbody tr th:only-of-type {\n        vertical-align: middle;\n    }\n\n    .dataframe tbody tr th {\n        vertical-align: top;\n    }\n\n    .dataframe thead th {\n        text-align: right;\n    }\n</style>\n<table border=\"1\" class=\"dataframe\">\n  <thead>\n    <tr style=\"text-align: right;\">\n      <th></th>\n      <th>Survived</th>\n      <th>Age</th>\n      <th>SibSp</th>\n      <th>Parch</th>\n      <th>Fare</th>\n      <th>Embarked_C</th>\n      <th>Embarked_Q</th>\n      <th>Embarked_S</th>\n      <th>Sex_female</th>\n      <th>Sex_male</th>\n      <th>Pclass_class_1</th>\n      <th>Pclass_class_2</th>\n      <th>Pclass_class_3</th>\n    </tr>\n  </thead>\n  <tbody>\n    <tr>\n      <th>0</th>\n      <td>0</td>\n      <td>22.0</td>\n      <td>1</td>\n      <td>0</td>\n      <td>7.2500</td>\n      <td>0</td>\n      <td>0</td>\n      <td>1</td>\n      <td>0</td>\n      <td>1</td>\n      <td>0</td>\n      <td>0</td>\n      <td>1</td>\n    </tr>\n    <tr>\n      <th>1</th>\n      <td>1</td>\n      <td>38.0</td>\n      <td>1</td>\n      <td>0</td>\n      <td>71.2833</td>\n      <td>1</td>\n      <td>0</td>\n      <td>0</td>\n      <td>1</td>\n      <td>0</td>\n      <td>1</td>\n      <td>0</td>\n      <td>0</td>\n    </tr>\n    <tr>\n      <th>2</th>\n      <td>1</td>\n      <td>26.0</td>\n      <td>0</td>\n      <td>0</td>\n      <td>7.9250</td>\n      <td>0</td>\n      <td>0</td>\n      <td>1</td>\n      <td>1</td>\n      <td>0</td>\n      <td>0</td>\n      <td>0</td>\n      <td>1</td>\n    </tr>\n    <tr>\n      <th>3</th>\n      <td>1</td>\n      <td>35.0</td>\n      <td>1</td>\n      <td>0</td>\n      <td>53.1000</td>\n      <td>0</td>\n      <td>0</td>\n      <td>1</td>\n      <td>1</td>\n      <td>0</td>\n      <td>1</td>\n      <td>0</td>\n      <td>0</td>\n    </tr>\n    <tr>\n      <th>4</th>\n      <td>0</td>\n      <td>35.0</td>\n      <td>0</td>\n      <td>0</td>\n      <td>8.0500</td>\n      <td>0</td>\n      <td>0</td>\n      <td>1</td>\n      <td>0</td>\n      <td>1</td>\n      <td>0</td>\n      <td>0</td>\n      <td>1</td>\n    </tr>\n    <tr>\n      <th>6</th>\n      <td>0</td>\n      <td>54.0</td>\n      <td>0</td>\n      <td>0</td>\n      <td>51.8625</td>\n      <td>0</td>\n      <td>0</td>\n      <td>1</td>\n      <td>0</td>\n      <td>1</td>\n      <td>1</td>\n      <td>0</td>\n      <td>0</td>\n    </tr>\n    <tr>\n      <th>7</th>\n      <td>0</td>\n      <td>2.0</td>\n      <td>3</td>\n      <td>1</td>\n      <td>21.0750</td>\n      <td>0</td>\n      <td>0</td>\n      <td>1</td>\n      <td>0</td>\n      <td>1</td>\n      <td>0</td>\n      <td>0</td>\n      <td>1</td>\n    </tr>\n    <tr>\n      <th>8</th>\n      <td>1</td>\n      <td>27.0</td>\n      <td>0</td>\n      <td>2</td>\n      <td>11.1333</td>\n      <td>0</td>\n      <td>0</td>\n      <td>1</td>\n      <td>1</td>\n      <td>0</td>\n      <td>0</td>\n      <td>0</td>\n      <td>1</td>\n    </tr>\n    <tr>\n      <th>9</th>\n      <td>1</td>\n      <td>14.0</td>\n      <td>1</td>\n      <td>0</td>\n      <td>30.0708</td>\n      <td>1</td>\n      <td>0</td>\n      <td>0</td>\n      <td>1</td>\n      <td>0</td>\n      <td>0</td>\n      <td>1</td>\n      <td>0</td>\n    </tr>\n    <tr>\n      <th>10</th>\n      <td>1</td>\n      <td>4.0</td>\n      <td>1</td>\n      <td>1</td>\n      <td>16.7000</td>\n      <td>0</td>\n      <td>0</td>\n      <td>1</td>\n      <td>1</td>\n      <td>0</td>\n      <td>0</td>\n      <td>0</td>\n      <td>1</td>\n    </tr>\n  </tbody>\n</table>\n</div>"
metadata	{}
35	
cell_type	"code"
source	"train_data.isnull().sum()"
metadata	
execution	
iopub.status.busy	"2022-09-21T02:31:40.017866Z"
iopub.execute_input	"2022-09-21T02:31:40.018603Z"
iopub.status.idle	"2022-09-21T02:31:40.029410Z"
shell.execute_reply.started	"2022-09-21T02:31:40.018568Z"
shell.execute_reply	"2022-09-21T02:31:40.027888Z"
trusted	true
execution_count	37
outputs	
0	
execution_count	37
output_type	"execute_result"
data	
text/plain	"Survived          0\nAge               0\nSibSp             0\nParch             0\nFare              0\nEmbarked_C        0\nEmbarked_Q        0\nEmbarked_S        0\nSex_female        0\nSex_male          0\nPclass_class_1    0\nPclass_class_2    0\nPclass_class_3    0\ndtype: int64"
metadata	{}
36	
cell_type	"code"
source	"train_data.head(10)"
metadata	
execution	
iopub.status.busy	"2022-09-21T02:31:54.169126Z"
iopub.execute_input	"2022-09-21T02:31:54.169509Z"
iopub.status.idle	"2022-09-21T02:31:54.189487Z"
shell.execute_reply.started	"2022-09-21T02:31:54.169479Z"
shell.execute_reply	"2022-09-21T02:31:54.188531Z"
trusted	true
execution_count	39
outputs	
0	
execution_count	39
output_type	"execute_result"
data	
text/plain	"    Survived   Age  SibSp  Parch     Fare  Embarked_C  Embarked_S  Sex_female  \\\n0          0  22.0      1      0   7.2500           0           1           0   \n1          1  38.0      1      0  71.2833           1           0           1   \n2          1  26.0      0      0   7.9250           0           1           1   \n3          1  35.0      1      0  53.1000           0           1           1   \n4          0  35.0      0      0   8.0500           0           1           0   \n6          0  54.0      0      0  51.8625           0           1           0   \n7          0   2.0      3      1  21.0750           0           1           0   \n8          1  27.0      0      2  11.1333           0           1           1   \n9          1  14.0      1      0  30.0708           1           0           1   \n10         1   4.0      1      1  16.7000           0           1           1   \n\n    Sex_male  Pclass_class_1  Pclass_class_2  Pclass_class_3  \n0          1               0               0               1  \n1          0               1               0               0  \n2          0               0               0               1  \n3          0               1               0               0  \n4          1               0               0               1  \n6          1               1               0               0  \n7          1               0               0               1  \n8          0               0               0               1  \n9          0               0               1               0  \n10         0               0               0               1  "
text/html	"<div>\n<style scoped>\n    .dataframe tbody tr th:only-of-type {\n        vertical-align: middle;\n    }\n\n    .dataframe tbody tr th {\n        vertical-align: top;\n    }\n\n    .dataframe thead th {\n        text-align: right;\n    }\n</style>\n<table border=\"1\" class=\"dataframe\">\n  <thead>\n    <tr style=\"text-align: right;\">\n      <th></th>\n      <th>Survived</th>\n      <th>Age</th>\n      <th>SibSp</th>\n      <th>Parch</th>\n      <th>Fare</th>\n      <th>Embarked_C</th>\n      <th>Embarked_S</th>\n      <th>Sex_female</th>\n      <th>Sex_male</th>\n      <th>Pclass_class_1</th>\n      <th>Pclass_class_2</th>\n      <th>Pclass_class_3</th>\n    </tr>\n  </thead>\n  <tbody>\n    <tr>\n      <th>0</th>\n      <td>0</td>\n      <td>22.0</td>\n      <td>1</td>\n      <td>0</td>\n      <td>7.2500</td>\n      <td>0</td>\n      <td>1</td>\n      <td>0</td>\n      <td>1</td>\n      <td>0</td>\n      <td>0</td>\n      <td>1</td>\n    </tr>\n    <tr>\n      <th>1</th>\n      <td>1</td>\n      <td>38.0</td>\n      <td>1</td>\n      <td>0</td>\n      <td>71.2833</td>\n      <td>1</td>\n      <td>0</td>\n      <td>1</td>\n      <td>0</td>\n      <td>1</td>\n      <td>0</td>\n      <td>0</td>\n    </tr>\n    <tr>\n      <th>2</th>\n      <td>1</td>\n      <td>26.0</td>\n      <td>0</td>\n      <td>0</td>\n      <td>7.9250</td>\n      <td>0</td>\n      <td>1</td>\n      <td>1</td>\n      <td>0</td>\n      <td>0</td>\n      <td>0</td>\n      <td>1</td>\n    </tr>\n    <tr>\n      <th>3</th>\n      <td>1</td>\n      <td>35.0</td>\n      <td>1</td>\n      <td>0</td>\n      <td>53.1000</td>\n      <td>0</td>\n      <td>1</td>\n      <td>1</td>\n      <td>0</td>\n      <td>1</td>\n      <td>0</td>\n      <td>0</td>\n    </tr>\n    <tr>\n      <th>4</th>\n      <td>0</td>\n      <td>35.0</td>\n      <td>0</td>\n      <td>0</td>\n      <td>8.0500</td>\n      <td>0</td>\n      <td>1</td>\n      <td>0</td>\n      <td>1</td>\n      <td>0</td>\n      <td>0</td>\n      <td>1</td>\n    </tr>\n    <tr>\n      <th>6</th>\n      <td>0</td>\n      <td>54.0</td>\n      <td>0</td>\n      <td>0</td>\n      <td>51.8625</td>\n      <td>0</td>\n      <td>1</td>\n      <td>0</td>\n      <td>1</td>\n      <td>1</td>\n      <td>0</td>\n      <td>0</td>\n    </tr>\n    <tr>\n      <th>7</th>\n      <td>0</td>\n      <td>2.0</td>\n      <td>3</td>\n      <td>1</td>\n      <td>21.0750</td>\n      <td>0</td>\n      <td>1</td>\n      <td>0</td>\n      <td>1</td>\n      <td>0</td>\n      <td>0</td>\n      <td>1</td>\n    </tr>\n    <tr>\n      <th>8</th>\n      <td>1</td>\n      <td>27.0</td>\n      <td>0</td>\n      <td>2</td>\n      <td>11.1333</td>\n      <td>0</td>\n      <td>1</td>\n      <td>1</td>\n      <td>0</td>\n      <td>0</td>\n      <td>0</td>\n      <td>1</td>\n    </tr>\n    <tr>\n      <th>9</th>\n      <td>1</td>\n      <td>14.0</td>\n      <td>1</td>\n      <td>0</td>\n      <td>30.0708</td>\n      <td>1</td>\n      <td>0</td>\n      <td>1</td>\n      <td>0</td>\n      <td>0</td>\n      <td>1</td>\n      <td>0</td>\n    </tr>\n    <tr>\n      <th>10</th>\n      <td>1</td>\n      <td>4.0</td>\n      <td>1</td>\n      <td>1</td>\n      <td>16.7000</td>\n      <td>0</td>\n      <td>1</td>\n      <td>1</td>\n      <td>0</td>\n      <td>0</td>\n      <td>0</td>\n      <td>1</td>\n    </tr>\n  </tbody>\n</table>\n</div>"
metadata	{}
37	
cell_type	"code"
source	"train_data.SibSp.unique()"
metadata	
execution	
iopub.status.busy	"2022-09-21T02:31:59.058236Z"
iopub.execute_input	"2022-09-21T02:31:59.058595Z"
iopub.status.idle	"2022-09-21T02:31:59.066350Z"
shell.execute_reply.started	"2022-09-21T02:31:59.058555Z"
shell.execute_reply	"2022-09-21T02:31:59.065249Z"
trusted	true
execution_count	40
outputs	
0	
execution_count	40
output_type	"execute_result"
data	
text/plain	"array([1, 0, 3, 4, 2, 5])"
metadata	{}
38	
cell_type	"markdown"
source	"sibsp: The dataset defines family relations in this way...\nSibling = brother, sister, stepbrother, stepsister\nSpouse = husband, wife (mistresses and fiancés were ignored)"
metadata	{}
39	
cell_type	"code"
source	"train_data['SibSp']=train_data['SibSp'].replace([0,1,2,3,4,5],['SibSp_0','SibSp_1','SibSp_2','SibSp_3','SibSp_4','SibSp_5'])"
metadata	
execution	
iopub.status.busy	"2022-09-21T02:32:02.890989Z"
iopub.execute_input	"2022-09-21T02:32:02.891341Z"
iopub.status.idle	"2022-09-21T02:32:02.899031Z"
shell.execute_reply.started	"2022-09-21T02:32:02.891310Z"
shell.execute_reply	"2022-09-21T02:32:02.897894Z"
trusted	true
execution_count	41
outputs	[]
40	
cell_type	"code"
source	"clase = pd.get_dummies(train_data[['SibSp']])"
metadata	
execution	
iopub.status.busy	"2022-09-21T02:34:06.812168Z"
iopub.execute_input	"2022-09-21T02:34:06.812581Z"
iopub.status.idle	"2022-09-21T02:34:06.822725Z"
shell.execute_reply.started	"2022-09-21T02:34:06.812544Z"
shell.execute_reply	"2022-09-21T02:34:06.821380Z"
trusted	true
execution_count	50
outputs	[]
41	
cell_type	"code"
source	"train_data = pd.concat([train_data, clase], axis=1)"
metadata	
execution	
iopub.status.busy	"2022-09-21T02:34:08.664090Z"
iopub.execute_input	"2022-09-21T02:34:08.664463Z"
iopub.status.idle	"2022-09-21T02:34:08.671251Z"
shell.execute_reply.started	"2022-09-21T02:34:08.664433Z"
shell.execute_reply	"2022-09-21T02:34:08.670293Z"
trusted	true
execution_count	51
outputs	[]
42	
cell_type	"code"
source	"train_data = train_data.drop(['SibSp'],axis=1)"
metadata	
execution	
iopub.status.busy	"2022-09-21T02:35:00.007009Z"
iopub.execute_input	"2022-09-21T02:35:00.007567Z"
iopub.status.idle	"2022-09-21T02:35:00.019684Z"
shell.execute_reply.started	"2022-09-21T02:35:00.007522Z"
shell.execute_reply	"2022-09-21T02:35:00.018727Z"
trusted	true
execution_count	53
outputs	[]
43	
cell_type	"code"
source	"train_data.head()"
metadata	
execution	
iopub.status.busy	"2022-09-21T02:35:03.279497Z"
iopub.execute_input	"2022-09-21T02:35:03.279892Z"
iopub.status.idle	"2022-09-21T02:35:03.296646Z"
shell.execute_reply.started	"2022-09-21T02:35:03.279845Z"
shell.execute_reply	"2022-09-21T02:35:03.295542Z"
trusted	true
execution_count	54
outputs	
0	
execution_count	54
output_type	"execute_result"
data	
text/plain	"   Survived   Age  Parch     Fare  Embarked_C  Embarked_S  Sex_female  \\\n0         0  22.0      0   7.2500           0           1           0   \n1         1  38.0      0  71.2833           1           0           1   \n2         1  26.0      0   7.9250           0           1           1   \n3         1  35.0      0  53.1000           0           1           1   \n4         0  35.0      0   8.0500           0           1           0   \n\n   Sex_male  Pclass_class_1  Pclass_class_2  Pclass_class_3  Pclass_class_1  \\\n0         1               0               0               1               0   \n1         0               1               0               0               1   \n2         0               0               0               1               0   \n3         0               1               0               0               1   \n4         1               0               0               1               0   \n\n   Pclass_class_2  Pclass_class_3  SibSp_SibSp_0  SibSp_SibSp_1  \\\n0               0               1              0              1   \n1               0               0              0              1   \n2               0               1              1              0   \n3               0               0              0              1   \n4               0               1              1              0   \n\n   SibSp_SibSp_2  SibSp_SibSp_3  SibSp_SibSp_4  SibSp_SibSp_5  \n0              0              0              0              0  \n1              0              0              0              0  \n2              0              0              0              0  \n3              0              0              0              0  \n4              0              0              0              0  "
text/html	"<div>\n<style scoped>\n    .dataframe tbody tr th:only-of-type {\n        vertical-align: middle;\n    }\n\n    .dataframe tbody tr th {\n        vertical-align: top;\n    }\n\n    .dataframe thead th {\n        text-align: right;\n    }\n</style>\n<table border=\"1\" class=\"dataframe\">\n  <thead>\n    <tr style=\"text-align: right;\">\n      <th></th>\n      <th>Survived</th>\n      <th>Age</th>\n      <th>Parch</th>\n      <th>Fare</th>\n      <th>Embarked_C</th>\n      <th>Embarked_S</th>\n      <th>Sex_female</th>\n      <th>Sex_male</th>\n      <th>Pclass_class_1</th>\n      <th>Pclass_class_2</th>\n      <th>Pclass_class_3</th>\n      <th>Pclass_class_1</th>\n      <th>Pclass_class_2</th>\n      <th>Pclass_class_3</th>\n      <th>SibSp_SibSp_0</th>\n      <th>SibSp_SibSp_1</th>\n      <th>SibSp_SibSp_2</th>\n      <th>SibSp_SibSp_3</th>\n      <th>SibSp_SibSp_4</th>\n      <th>SibSp_SibSp_5</th>\n    </tr>\n  </thead>\n  <tbody>\n    <tr>\n      <th>0</th>\n      <td>0</td>\n      <td>22.0</td>\n      <td>0</td>\n      <td>7.2500</td>\n      <td>0</td>\n      <td>1</td>\n      <td>0</td>\n      <td>1</td>\n      <td>0</td>\n      <td>0</td>\n      <td>1</td>\n      <td>0</td>\n      <td>0</td>\n      <td>1</td>\n      <td>0</td>\n      <td>1</td>\n      <td>0</td>\n      <td>0</td>\n      <td>0</td>\n      <td>0</td>\n    </tr>\n    <tr>\n      <th>1</th>\n      <td>1</td>\n      <td>38.0</td>\n      <td>0</td>\n      <td>71.2833</td>\n      <td>1</td>\n      <td>0</td>\n      <td>1</td>\n      <td>0</td>\n      <td>1</td>\n      <td>0</td>\n      <td>0</td>\n      <td>1</td>\n      <td>0</td>\n      <td>0</td>\n      <td>0</td>\n      <td>1</td>\n      <td>0</td>\n      <td>0</td>\n      <td>0</td>\n      <td>0</td>\n    </tr>\n    <tr>\n      <th>2</th>\n      <td>1</td>\n      <td>26.0</td>\n      <td>0</td>\n      <td>7.9250</td>\n      <td>0</td>\n      <td>1</td>\n      <td>1</td>\n      <td>0</td>\n      <td>0</td>\n      <td>0</td>\n      <td>1</td>\n      <td>0</td>\n      <td>0</td>\n      <td>1</td>\n      <td>1</td>\n      <td>0</td>\n      <td>0</td>\n      <td>0</td>\n      <td>0</td>\n      <td>0</td>\n    </tr>\n    <tr>\n      <th>3</th>\n      <td>1</td>\n      <td>35.0</td>\n      <td>0</td>\n      <td>53.1000</td>\n      <td>0</td>\n      <td>1</td>\n      <td>1</td>\n      <td>0</td>\n      <td>1</td>\n      <td>0</td>\n      <td>0</td>\n      <td>1</td>\n      <td>0</td>\n      <td>0</td>\n      <td>0</td>\n      <td>1</td>\n      <td>0</td>\n      <td>0</td>\n      <td>0</td>\n      <td>0</td>\n    </tr>\n    <tr>\n      <th>4</th>\n      <td>0</td>\n      <td>35.0</td>\n      <td>0</td>\n      <td>8.0500</td>\n      <td>0</td>\n      <td>1</td>\n      <td>0</td>\n      <td>1</td>\n      <td>0</td>\n      <td>0</td>\n      <td>1</td>\n      <td>0</td>\n      <td>0</td>\n      <td>1</td>\n      <td>1</td>\n      <td>0</td>\n      <td>0</td>\n      <td>0</td>\n      <td>0</td>\n      <td>0</td>\n    </tr>\n  </tbody>\n</table>\n</div>"
metadata	{}
44	
cell_type	"code"
source	"train_data['Parch'].unique()"
metadata	
execution	
iopub.status.busy	"2022-09-21T02:38:40.328855Z"
iopub.execute_input	"2022-09-21T02:38:40.329223Z"
iopub.status.idle	"2022-09-21T02:38:40.337545Z"
shell.execute_reply.started	"2022-09-21T02:38:40.329187Z"
shell.execute_reply	"2022-09-21T02:38:40.336539Z"
trusted	true
execution_count	99
outputs	
0	
execution_count	99
output_type	"execute_result"
data	
text/plain	"array([0, 1, 2, 5, 3, 4, 6])"
metadata	{}
45	
cell_type	"code"
source	"train_data = train_data.drop(['Parch'],axis=1)"
metadata	
execution	
iopub.status.busy	"2022-09-21T02:39:03.994472Z"
iopub.execute_input	"2022-09-21T02:39:03.994841Z"
iopub.status.idle	"2022-09-21T02:39:04.001269Z"
shell.execute_reply.started	"2022-09-21T02:39:03.994810Z"
shell.execute_reply	"2022-09-21T02:39:04.000119Z"
trusted	true
execution_count	100
outputs	[]
46	
cell_type	"code"
source	"train_data.head(10)"
metadata	
execution	
iopub.status.busy	"2022-09-21T02:50:14.239560Z"
iopub.execute_input	"2022-09-21T02:50:14.239933Z"
iopub.status.idle	"2022-09-21T02:50:14.264089Z"
shell.execute_reply.started	"2022-09-21T02:50:14.239899Z"
shell.execute_reply	"2022-09-21T02:50:14.258218Z"
trusted	true
execution_count	240
outputs	
0	
execution_count	240
output_type	"execute_result"
data	
text/plain	"    Survived   Age     Fare  Embarked_C  Embarked_S  Sex_female  Sex_male  \\\n0          0  22.0   7.2500           0           1           0         1   \n1          1  38.0  71.2833           1           0           1         0   \n2          1  26.0   7.9250           0           1           1         0   \n3          1  35.0  53.1000           0           1           1         0   \n4          0  35.0   8.0500           0           1           0         1   \n6          0  54.0  51.8625           0           1           0         1   \n7          0   2.0  21.0750           0           1           0         1   \n8          1  27.0  11.1333           0           1           1         0   \n9          1  14.0  30.0708           1           0           1         0   \n10         1   4.0  16.7000           0           1           1         0   \n\n    Pclass_class_1  Pclass_class_3  Pclass_class_1  Pclass_class_3  \\\n0                0               1               0               1   \n1                1               0               1               0   \n2                0               1               0               1   \n3                1               0               1               0   \n4                0               1               0               1   \n6                1               0               1               0   \n7                0               1               0               1   \n8                0               1               0               1   \n9                0               0               0               0   \n10               0               1               0               1   \n\n    SibSp_SibSp_0  SibSp_SibSp_1  SibSp_SibSp_2  SibSp_SibSp_3  SibSp_SibSp_4  \\\n0               0              1              0              0              0   \n1               0              1              0              0              0   \n2               1              0              0              0              0   \n3               0              1              0              0              0   \n4               1              0              0              0              0   \n6               1              0              0              0              0   \n7               0              0              0              1              0   \n8               1              0              0              0              0   \n9               0              1              0              0              0   \n10              0              1              0              0              0   \n\n    SibSp_SibSp_5  \n0               0  \n1               0  \n2               0  \n3               0  \n4               0  \n6               0  \n7               0  \n8               0  \n9               0  \n10              0  "
text/html	"<div>\n<style scoped>\n    .dataframe tbody tr th:only-of-type {\n        vertical-align: middle;\n    }\n\n    .dataframe tbody tr th {\n        vertical-align: top;\n    }\n\n    .dataframe thead th {\n        text-align: right;\n    }\n</style>\n<table border=\"1\" class=\"dataframe\">\n  <thead>\n    <tr style=\"text-align: right;\">\n      <th></th>\n      <th>Survived</th>\n      <th>Age</th>\n      <th>Fare</th>\n      <th>Embarked_C</th>\n      <th>Embarked_S</th>\n      <th>Sex_female</th>\n      <th>Sex_male</th>\n      <th>Pclass_class_1</th>\n      <th>Pclass_class_3</th>\n      <th>Pclass_class_1</th>\n      <th>Pclass_class_3</th>\n      <th>SibSp_SibSp_0</th>\n      <th>SibSp_SibSp_1</th>\n      <th>SibSp_SibSp_2</th>\n      <th>SibSp_SibSp_3</th>\n      <th>SibSp_SibSp_4</th>\n      <th>SibSp_SibSp_5</th>\n    </tr>\n  </thead>\n  <tbody>\n    <tr>\n      <th>0</th>\n      <td>0</td>\n      <td>22.0</td>\n      <td>7.2500</td>\n      <td>0</td>\n      <td>1</td>\n      <td>0</td>\n      <td>1</td>\n      <td>0</td>\n      <td>1</td>\n      <td>0</td>\n      <td>1</td>\n      <td>0</td>\n      <td>1</td>\n      <td>0</td>\n      <td>0</td>\n      <td>0</td>\n      <td>0</td>\n    </tr>\n    <tr>\n      <th>1</th>\n      <td>1</td>\n      <td>38.0</td>\n      <td>71.2833</td>\n      <td>1</td>\n      <td>0</td>\n      <td>1</td>\n      <td>0</td>\n      <td>1</td>\n      <td>0</td>\n      <td>1</td>\n      <td>0</td>\n      <td>0</td>\n      <td>1</td>\n      <td>0</td>\n      <td>0</td>\n      <td>0</td>\n      <td>0</td>\n    </tr>\n    <tr>\n      <th>2</th>\n      <td>1</td>\n      <td>26.0</td>\n      <td>7.9250</td>\n      <td>0</td>\n      <td>1</td>\n      <td>1</td>\n      <td>0</td>\n      <td>0</td>\n      <td>1</td>\n      <td>0</td>\n      <td>1</td>\n      <td>1</td>\n      <td>0</td>\n      <td>0</td>\n      <td>0</td>\n      <td>0</td>\n      <td>0</td>\n    </tr>\n    <tr>\n      <th>3</th>\n      <td>1</td>\n      <td>35.0</td>\n      <td>53.1000</td>\n      <td>0</td>\n      <td>1</td>\n      <td>1</td>\n      <td>0</td>\n      <td>1</td>\n      <td>0</td>\n      <td>1</td>\n      <td>0</td>\n      <td>0</td>\n      <td>1</td>\n      <td>0</td>\n      <td>0</td>\n      <td>0</td>\n      <td>0</td>\n    </tr>\n    <tr>\n      <th>4</th>\n      <td>0</td>\n      <td>35.0</td>\n      <td>8.0500</td>\n      <td>0</td>\n      <td>1</td>\n      <td>0</td>\n      <td>1</td>\n      <td>0</td>\n      <td>1</td>\n      <td>0</td>\n      <td>1</td>\n      <td>1</td>\n      <td>0</td>\n      <td>0</td>\n      <td>0</td>\n      <td>0</td>\n      <td>0</td>\n    </tr>\n    <tr>\n      <th>6</th>\n      <td>0</td>\n      <td>54.0</td>\n      <td>51.8625</td>\n      <td>0</td>\n      <td>1</td>\n      <td>0</td>\n      <td>1</td>\n      <td>1</td>\n      <td>0</td>\n      <td>1</td>\n      <td>0</td>\n      <td>1</td>\n      <td>0</td>\n      <td>0</td>\n      <td>0</td>\n      <td>0</td>\n      <td>0</td>\n    </tr>\n    <tr>\n      <th>7</th>\n      <td>0</td>\n      <td>2.0</td>\n      <td>21.0750</td>\n      <td>0</td>\n      <td>1</td>\n      <td>0</td>\n      <td>1</td>\n      <td>0</td>\n      <td>1</td>\n      <td>0</td>\n      <td>1</td>\n      <td>0</td>\n      <td>0</td>\n      <td>0</td>\n      <td>1</td>\n      <td>0</td>\n      <td>0</td>\n    </tr>\n    <tr>\n      <th>8</th>\n      <td>1</td>\n      <td>27.0</td>\n      <td>11.1333</td>\n      <td>0</td>\n      <td>1</td>\n      <td>1</td>\n      <td>0</td>\n      <td>0</td>\n      <td>1</td>\n      <td>0</td>\n      <td>1</td>\n      <td>1</td>\n      <td>0</td>\n      <td>0</td>\n      <td>0</td>\n      <td>0</td>\n      <td>0</td>\n    </tr>\n    <tr>\n      <th>9</th>\n      <td>1</td>\n      <td>14.0</td>\n      <td>30.0708</td>\n      <td>1</td>\n      <td>0</td>\n      <td>1</td>\n      <td>0</td>\n      <td>0</td>\n      <td>0</td>\n      <td>0</td>\n      <td>0</td>\n      <td>0</td>\n      <td>1</td>\n      <td>0</td>\n      <td>0</td>\n      <td>0</td>\n      <td>0</td>\n    </tr>\n    <tr>\n      <th>10</th>\n      <td>1</td>\n      <td>4.0</td>\n      <td>16.7000</td>\n      <td>0</td>\n      <td>1</td>\n      <td>1</td>\n      <td>0</td>\n      <td>0</td>\n      <td>1</td>\n      <td>0</td>\n      <td>1</td>\n      <td>0</td>\n      <td>1</td>\n      <td>0</td>\n      <td>0</td>\n      <td>0</td>\n      <td>0</td>\n    </tr>\n  </tbody>\n</table>\n</div>"
metadata	{}
47	
cell_type	"code"
source	"train_data = train_data.drop(['Pclass_class_2'],axis=1)"
metadata	
execution	
iopub.status.busy	"2022-09-21T02:44:41.608747Z"
iopub.execute_input	"2022-09-21T02:44:41.609565Z"
iopub.status.idle	"2022-09-21T02:44:41.614996Z"
shell.execute_reply.started	"2022-09-21T02:44:41.609523Z"
shell.execute_reply	"2022-09-21T02:44:41.613887Z"
trusted	true
execution_count	177
outputs	[]
48	
cell_type	"code"
source	"X= train_data.drop(['Survived'], axis=1)\ny= train_data['Survived']"
metadata	
execution	
iopub.status.busy	"2022-09-21T02:44:45.163238Z"
iopub.execute_input	"2022-09-21T02:44:45.163613Z"
iopub.status.idle	"2022-09-21T02:44:45.171189Z"
shell.execute_reply.started	"2022-09-21T02:44:45.163579Z"
shell.execute_reply	"2022-09-21T02:44:45.170187Z"
trusted	true
execution_count	178
outputs	[]
49	
cell_type	"code"
source	"from sklearn.model_selection import train_test_split"
metadata	
execution	
iopub.status.busy	"2022-09-21T02:44:46.358625Z"
iopub.execute_input	"2022-09-21T02:44:46.359435Z"
iopub.status.idle	"2022-09-21T02:44:46.364905Z"
shell.execute_reply.started	"2022-09-21T02:44:46.359389Z"
shell.execute_reply	"2022-09-21T02:44:46.363820Z"
trusted	true
execution_count	179
outputs	[]
50	
cell_type	"code"
source	"X_train, X_val, y_train, y_val = train_test_split(X, y,\n                                                 test_size=0.2,\n                                                 random_state=0,\n                                                 stratify=y)"
metadata	
execution	
iopub.status.busy	"2022-09-21T02:44:47.652771Z"
iopub.execute_input	"2022-09-21T02:44:47.653495Z"
iopub.status.idle	"2022-09-21T02:44:47.663466Z"
shell.execute_reply.started	"2022-09-21T02:44:47.653456Z"
shell.execute_reply	"2022-09-21T02:44:47.662204Z"
trusted	true
execution_count	180
outputs	[]
51	
cell_type	"code"
source	"from sklearn.preprocessing import StandardScaler\nsc = StandardScaler()"
metadata	
execution	
iopub.status.busy	"2022-09-21T02:44:49.350939Z"
iopub.execute_input	"2022-09-21T02:44:49.351302Z"
iopub.status.idle	"2022-09-21T02:44:49.358807Z"
shell.execute_reply.started	"2022-09-21T02:44:49.351270Z"
shell.execute_reply	"2022-09-21T02:44:49.357916Z"
trusted	true
execution_count	181
outputs	[]
52	
cell_type	"code"
source	"sc.fit(X_train)"
metadata	
execution	
iopub.status.busy	"2022-09-21T02:44:51.126663Z"
iopub.execute_input	"2022-09-21T02:44:51.127045Z"
iopub.status.idle	"2022-09-21T02:44:51.140458Z"
shell.execute_reply.started	"2022-09-21T02:44:51.127005Z"
shell.execute_reply	"2022-09-21T02:44:51.139115Z"
trusted	true
execution_count	182
outputs	
0	
execution_count	182
output_type	"execute_result"
data	
text/plain	"StandardScaler()"
metadata	{}
53	
cell_type	"code"
source	"X_train_st = sc.transform(X_train)\nX_val_st = sc.transform(X_val)"
metadata	
execution	
iopub.status.busy	"2022-09-21T02:44:52.680832Z"
iopub.execute_input	"2022-09-21T02:44:52.681951Z"
iopub.status.idle	"2022-09-21T02:44:52.690552Z"
shell.execute_reply.started	"2022-09-21T02:44:52.681905Z"
shell.execute_reply	"2022-09-21T02:44:52.689410Z"
trusted	true
execution_count	183
outputs	[]
54	
cell_type	"code"
source	"pd.DataFrame(X_train_st)"
metadata	
execution	
iopub.status.busy	"2022-09-21T02:44:54.322927Z"
iopub.execute_input	"2022-09-21T02:44:54.323603Z"
iopub.status.idle	"2022-09-21T02:44:54.347302Z"
shell.execute_reply.started	"2022-09-21T02:44:54.323566Z"
shell.execute_reply	"2022-09-21T02:44:54.345489Z"
trusted	true
execution_count	184
outputs	
0	
execution_count	184
output_type	"execute_result"
data	
text/plain	"           0         1         2         3         4         5         6   \\\n0   -1.532025 -0.168602 -0.477448  0.551047  1.296438 -1.296438 -0.602303   \n1    0.278305 -0.276612 -0.477448  0.551047 -0.771344  0.771344 -0.602303   \n2    0.412403 -0.546210 -0.477448  0.551047 -0.771344  0.771344 -0.602303   \n3    0.211256 -0.286385 -0.477448  0.551047 -0.771344  0.771344 -0.602303   \n4   -0.727434 -0.551267 -0.477448  0.551047 -0.771344  0.771344 -0.602303   \n..        ...       ...       ...       ...       ...       ...       ...   \n566  0.613551 -0.065221 -0.477448  0.551047  1.296438 -1.296438 -0.602303   \n567 -0.123991  0.260353 -0.477448  0.551047 -0.771344  0.771344  1.660295   \n568  0.010108 -0.560010  2.094467 -1.814727 -0.771344  0.771344 -0.602303   \n569  0.613551 -0.441199 -0.477448  0.551047 -0.771344  0.771344 -0.602303   \n570 -0.727434 -0.441199 -0.477448  0.551047 -0.771344  0.771344 -0.602303   \n\n           7         8         9         10        11        12        13  \\\n0   -0.977486 -0.602303 -0.977486  0.745559 -0.618520 -0.190519 -0.126547   \n1   -0.977486 -0.602303 -0.977486 -1.341275  1.616763 -0.190519 -0.126547   \n2    1.023032 -0.602303  1.023032  0.745559 -0.618520 -0.190519 -0.126547   \n3    1.023032 -0.602303  1.023032 -1.341275  1.616763 -0.190519 -0.126547   \n4    1.023032 -0.602303  1.023032  0.745559 -0.618520 -0.190519 -0.126547   \n..        ...       ...       ...       ...       ...       ...       ...   \n566  1.023032 -0.602303  1.023032 -1.341275  1.616763 -0.190519 -0.126547   \n567 -0.977486  1.660295 -0.977486  0.745559 -0.618520 -0.190519 -0.126547   \n568  1.023032 -0.602303  1.023032  0.745559 -0.618520 -0.190519 -0.126547   \n569 -0.977486 -0.602303 -0.977486  0.745559 -0.618520 -0.190519 -0.126547   \n570 -0.977486 -0.602303 -0.977486  0.745559 -0.618520 -0.190519 -0.126547   \n\n           14        15  \n0   -0.158539 -0.072675  \n1   -0.158539 -0.072675  \n2   -0.158539 -0.072675  \n3   -0.158539 -0.072675  \n4   -0.158539 -0.072675  \n..        ...       ...  \n566 -0.158539 -0.072675  \n567 -0.158539 -0.072675  \n568 -0.158539 -0.072675  \n569 -0.158539 -0.072675  \n570 -0.158539 -0.072675  \n\n[571 rows x 16 columns]"
text/html	"<div>\n<style scoped>\n    .dataframe tbody tr th:only-of-type {\n        vertical-align: middle;\n    }\n\n    .dataframe tbody tr th {\n        vertical-align: top;\n    }\n\n    .dataframe thead th {\n        text-align: right;\n    }\n</style>\n<table border=\"1\" class=\"dataframe\">\n  <thead>\n    <tr style=\"text-align: right;\">\n      <th></th>\n      <th>0</th>\n      <th>1</th>\n      <th>2</th>\n      <th>3</th>\n      <th>4</th>\n      <th>5</th>\n      <th>6</th>\n      <th>7</th>\n      <th>8</th>\n      <th>9</th>\n      <th>10</th>\n      <th>11</th>\n      <th>12</th>\n      <th>13</th>\n      <th>14</th>\n      <th>15</th>\n    </tr>\n  </thead>\n  <tbody>\n    <tr>\n      <th>0</th>\n      <td>-1.532025</td>\n      <td>-0.168602</td>\n      <td>-0.477448</td>\n      <td>0.551047</td>\n      <td>1.296438</td>\n      <td>-1.296438</td>\n      <td>-0.602303</td>\n      <td>-0.977486</td>\n      <td>-0.602303</td>\n      <td>-0.977486</td>\n      <td>0.745559</td>\n      <td>-0.618520</td>\n      <td>-0.190519</td>\n      <td>-0.126547</td>\n      <td>-0.158539</td>\n      <td>-0.072675</td>\n    </tr>\n    <tr>\n      <th>1</th>\n      <td>0.278305</td>\n      <td>-0.276612</td>\n      <td>-0.477448</td>\n      <td>0.551047</td>\n      <td>-0.771344</td>\n      <td>0.771344</td>\n      <td>-0.602303</td>\n      <td>-0.977486</td>\n      <td>-0.602303</td>\n      <td>-0.977486</td>\n      <td>-1.341275</td>\n      <td>1.616763</td>\n      <td>-0.190519</td>\n      <td>-0.126547</td>\n      <td>-0.158539</td>\n      <td>-0.072675</td>\n    </tr>\n    <tr>\n      <th>2</th>\n      <td>0.412403</td>\n      <td>-0.546210</td>\n      <td>-0.477448</td>\n      <td>0.551047</td>\n      <td>-0.771344</td>\n      <td>0.771344</td>\n      <td>-0.602303</td>\n      <td>1.023032</td>\n      <td>-0.602303</td>\n      <td>1.023032</td>\n      <td>0.745559</td>\n      <td>-0.618520</td>\n      <td>-0.190519</td>\n      <td>-0.126547</td>\n      <td>-0.158539</td>\n      <td>-0.072675</td>\n    </tr>\n    <tr>\n      <th>3</th>\n      <td>0.211256</td>\n      <td>-0.286385</td>\n      <td>-0.477448</td>\n      <td>0.551047</td>\n      <td>-0.771344</td>\n      <td>0.771344</td>\n      <td>-0.602303</td>\n      <td>1.023032</td>\n      <td>-0.602303</td>\n      <td>1.023032</td>\n      <td>-1.341275</td>\n      <td>1.616763</td>\n      <td>-0.190519</td>\n      <td>-0.126547</td>\n      <td>-0.158539</td>\n      <td>-0.072675</td>\n    </tr>\n    <tr>\n      <th>4</th>\n      <td>-0.727434</td>\n      <td>-0.551267</td>\n      <td>-0.477448</td>\n      <td>0.551047</td>\n      <td>-0.771344</td>\n      <td>0.771344</td>\n      <td>-0.602303</td>\n      <td>1.023032</td>\n      <td>-0.602303</td>\n      <td>1.023032</td>\n      <td>0.745559</td>\n      <td>-0.618520</td>\n      <td>-0.190519</td>\n      <td>-0.126547</td>\n      <td>-0.158539</td>\n      <td>-0.072675</td>\n    </tr>\n    <tr>\n      <th>...</th>\n      <td>...</td>\n      <td>...</td>\n      <td>...</td>\n      <td>...</td>\n      <td>...</td>\n      <td>...</td>\n      <td>...</td>\n      <td>...</td>\n      <td>...</td>\n      <td>...</td>\n      <td>...</td>\n      <td>...</td>\n      <td>...</td>\n      <td>...</td>\n      <td>...</td>\n      <td>...</td>\n    </tr>\n    <tr>\n      <th>566</th>\n      <td>0.613551</td>\n      <td>-0.065221</td>\n      <td>-0.477448</td>\n      <td>0.551047</td>\n      <td>1.296438</td>\n      <td>-1.296438</td>\n      <td>-0.602303</td>\n      <td>1.023032</td>\n      <td>-0.602303</td>\n      <td>1.023032</td>\n      <td>-1.341275</td>\n      <td>1.616763</td>\n      <td>-0.190519</td>\n      <td>-0.126547</td>\n      <td>-0.158539</td>\n      <td>-0.072675</td>\n    </tr>\n    <tr>\n      <th>567</th>\n      <td>-0.123991</td>\n      <td>0.260353</td>\n      <td>-0.477448</td>\n      <td>0.551047</td>\n      <td>-0.771344</td>\n      <td>0.771344</td>\n      <td>1.660295</td>\n      <td>-0.977486</td>\n      <td>1.660295</td>\n      <td>-0.977486</td>\n      <td>0.745559</td>\n      <td>-0.618520</td>\n      <td>-0.190519</td>\n      <td>-0.126547</td>\n      <td>-0.158539</td>\n      <td>-0.072675</td>\n    </tr>\n    <tr>\n      <th>568</th>\n      <td>0.010108</td>\n      <td>-0.560010</td>\n      <td>2.094467</td>\n      <td>-1.814727</td>\n      <td>-0.771344</td>\n      <td>0.771344</td>\n      <td>-0.602303</td>\n      <td>1.023032</td>\n      <td>-0.602303</td>\n      <td>1.023032</td>\n      <td>0.745559</td>\n      <td>-0.618520</td>\n      <td>-0.190519</td>\n      <td>-0.126547</td>\n      <td>-0.158539</td>\n      <td>-0.072675</td>\n    </tr>\n    <tr>\n      <th>569</th>\n      <td>0.613551</td>\n      <td>-0.441199</td>\n      <td>-0.477448</td>\n      <td>0.551047</td>\n      <td>-0.771344</td>\n      <td>0.771344</td>\n      <td>-0.602303</td>\n      <td>-0.977486</td>\n      <td>-0.602303</td>\n      <td>-0.977486</td>\n      <td>0.745559</td>\n      <td>-0.618520</td>\n      <td>-0.190519</td>\n      <td>-0.126547</td>\n      <td>-0.158539</td>\n      <td>-0.072675</td>\n    </tr>\n    <tr>\n      <th>570</th>\n      <td>-0.727434</td>\n      <td>-0.441199</td>\n      <td>-0.477448</td>\n      <td>0.551047</td>\n      <td>-0.771344</td>\n      <td>0.771344</td>\n      <td>-0.602303</td>\n      <td>-0.977486</td>\n      <td>-0.602303</td>\n      <td>-0.977486</td>\n      <td>0.745559</td>\n      <td>-0.618520</td>\n      <td>-0.190519</td>\n      <td>-0.126547</td>\n      <td>-0.158539</td>\n      <td>-0.072675</td>\n    </tr>\n  </tbody>\n</table>\n<p>571 rows × 16 columns</p>\n</div>"
metadata	{}
55	
cell_type	"code"
source	"from sklearn.base import clone \nfrom itertools import combinations\nimport numpy as np\nfrom sklearn.metrics import accuracy_score\nfrom sklearn.model_selection import train_test_split\n\nclass SBS( ):\n    \n    def __init__(self, estimator, k_features,\n              scoring= accuracy_score,\n              test_size=0.25, random_state=1):\n        self.scoring = scoring\n        self.estimator = clone(estimator)\n        self.k_features = k_features\n        self.test_size = test_size\n        self.random_state = random_state\n        \n        \n    def fit(self, X, y):\n        \n        X_train, X_test, y_train, y_test = train_test_split(X, y,\n                                                           test_size= self.test_size,\n                                                           random_state = self.random_state)\n        \n        dim = X_train.shape[1]\n        self.indices_ = tuple(range(dim))\n        self.subsets_ = [self.indices_]\n        score = self._calc_score(X_train, y_train,\n                                X_test, y_test, self.indices_)\n        \n        self.scores_ = [score]\n        \n        while dim > self.k_features:\n            scores = []\n            subsets = []\n            \n            for p in combinations(self.indices_, r=dim - 1):\n                score = self._calc_score(X_train, y_train,\n                                        X_test, y_test, p)\n                \n                scores.append(score)\n                subsets.append(p)\n                \n            best = np.argmax(scores)\n            self.indices_ = subsets[best]\n            self.subsets_.append(self.indices_)\n            dim -= 1\n            \n            self.scores_.append(scores[best])\n        self.K_score_ = self.scores_[-1]\n        \n        return self\n    \n    def transform(self, X):\n        return X[:, self.indices_]\n    \n    def _calc_score(self, X_train, y_train, X_test, y_test, indices):\n        \n        self.estimator.fit(X_train[:, indices], y_train)\n        y_pred = self.estimator.predict(X_test[:, indices])\n        score = self.scoring(y_test, y_pred)\n        return score"
metadata	
execution	
iopub.status.busy	"2022-09-21T02:44:55.901723Z"
iopub.execute_input	"2022-09-21T02:44:55.902102Z"
iopub.status.idle	"2022-09-21T02:44:55.915349Z"
shell.execute_reply.started	"2022-09-21T02:44:55.902068Z"
shell.execute_reply	"2022-09-21T02:44:55.914368Z"
trusted	true
execution_count	185
outputs	[]
56	
cell_type	"code"
source	"import matplotlib.pyplot as plt\nfrom sklearn.neighbors import KNeighborsClassifier"
metadata	
execution	
iopub.status.busy	"2022-09-21T02:44:57.179663Z"
iopub.execute_input	"2022-09-21T02:44:57.180053Z"
iopub.status.idle	"2022-09-21T02:44:57.185326Z"
shell.execute_reply.started	"2022-09-21T02:44:57.180019Z"
shell.execute_reply	"2022-09-21T02:44:57.184250Z"
trusted	true
execution_count	186
outputs	[]
57	
cell_type	"code"
source	"knn = KNeighborsClassifier(n_neighbors=9)"
metadata	
execution	
iopub.status.busy	"2022-09-21T02:44:58.367054Z"
iopub.execute_input	"2022-09-21T02:44:58.368186Z"
iopub.status.idle	"2022-09-21T02:44:58.372853Z"
shell.execute_reply.started	"2022-09-21T02:44:58.368140Z"
shell.execute_reply	"2022-09-21T02:44:58.371959Z"
trusted	true
execution_count	187
outputs	[]
58	
cell_type	"code"
source	"sbs = SBS(knn, k_features=1)"
metadata	
execution	
iopub.status.busy	"2022-09-21T02:44:59.640906Z"
iopub.execute_input	"2022-09-21T02:44:59.641561Z"
iopub.status.idle	"2022-09-21T02:44:59.646739Z"
shell.execute_reply.started	"2022-09-21T02:44:59.641520Z"
shell.execute_reply	"2022-09-21T02:44:59.645783Z"
trusted	true
execution_count	188
outputs	[]
59	
cell_type	"code"
source	"sbs.fit(X_train_st, y_train)"
metadata	
execution	
iopub.status.busy	"2022-09-21T02:45:00.914458Z"
iopub.execute_input	"2022-09-21T02:45:00.915224Z"
iopub.status.idle	"2022-09-21T02:45:01.725568Z"
shell.execute_reply.started	"2022-09-21T02:45:00.915180Z"
shell.execute_reply	"2022-09-21T02:45:01.724606Z"
trusted	true
execution_count	189
outputs	
0	
execution_count	189
output_type	"execute_result"
data	
text/plain	"<__main__.SBS at 0x7f35b2086810>"
metadata	{}
60	
cell_type	"code"
source	"k_feat = [len(k) for k in sbs.subsets_]"
metadata	
execution	
iopub.status.busy	"2022-09-21T02:45:02.209624Z"
iopub.execute_input	"2022-09-21T02:45:02.210308Z"
iopub.status.idle	"2022-09-21T02:45:02.215291Z"
shell.execute_reply.started	"2022-09-21T02:45:02.210270Z"
shell.execute_reply	"2022-09-21T02:45:02.214279Z"
trusted	true
execution_count	190
outputs	[]
61	
cell_type	"code"
source	"plt.plot(k_feat, sbs.scores_, marker=\"o\")\nplt.ylim([0.7, 1.02])\nplt.ylabel('Accuracy')\nplt.xlabel('numero de caracteristicas')\nplt.grid()\nplt.show()"
metadata	
execution	
iopub.status.busy	"2022-09-21T02:45:04.453746Z"
iopub.execute_input	"2022-09-21T02:45:04.454878Z"
iopub.status.idle	"2022-09-21T02:45:04.667369Z"
shell.execute_reply.started	"2022-09-21T02:45:04.454813Z"
shell.execute_reply	"2022-09-21T02:45:04.666483Z"
trusted	true
execution_count	191
outputs	
0	
output_type	"display_data"
data	
text/plain	"<Figure size 432x288 with 1 Axes>"
image/png	"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\n"
metadata	
needs_background	"light"
62	
cell_type	"code"
source	"K8 = list(sbs.subsets_[1])"
metadata	
execution	
iopub.status.busy	"2022-09-21T02:45:07.854935Z"
iopub.execute_input	"2022-09-21T02:45:07.855297Z"
iopub.status.idle	"2022-09-21T02:45:07.860388Z"
shell.execute_reply.started	"2022-09-21T02:45:07.855267Z"
shell.execute_reply	"2022-09-21T02:45:07.859385Z"
trusted	true
execution_count	192
outputs	[]
63	
cell_type	"code"
source	"print(X_train.columns[:][K8])"
metadata	
execution	
iopub.status.busy	"2022-09-21T02:45:08.982264Z"
iopub.execute_input	"2022-09-21T02:45:08.982620Z"
iopub.status.idle	"2022-09-21T02:45:08.989081Z"
shell.execute_reply.started	"2022-09-21T02:45:08.982590Z"
shell.execute_reply	"2022-09-21T02:45:08.988031Z"
trusted	true
execution_count	193
outputs	
0	
name	"stdout"
text	"Index(['Age', 'Fare', 'Embarked_C', 'Embarked_S', 'Sex_female', 'Sex_male',\n       'Pclass_class_1', 'Pclass_class_3', 'Pclass_class_1', 'Pclass_class_3',\n       'SibSp_SibSp_0', 'SibSp_SibSp_1', 'SibSp_SibSp_3', 'SibSp_SibSp_4',\n       'SibSp_SibSp_5'],\n      dtype='object')\n"
output_type	"stream"
64	
cell_type	"code"
source	"knn.fit(X_train_st, y_train)"
metadata	
execution	
iopub.status.busy	"2022-09-21T02:45:10.370828Z"
iopub.execute_input	"2022-09-21T02:45:10.371207Z"
iopub.status.idle	"2022-09-21T02:45:10.380288Z"
shell.execute_reply.started	"2022-09-21T02:45:10.371176Z"
shell.execute_reply	"2022-09-21T02:45:10.379020Z"
trusted	true
execution_count	194
outputs	
0	
execution_count	194
output_type	"execute_result"
data	
text/plain	"KNeighborsClassifier(n_neighbors=9)"
metadata	{}
65	
cell_type	"code"
source	"knn.score(X_train_st, y_train)"
metadata	
execution	
iopub.status.busy	"2022-09-21T02:45:11.821357Z"
iopub.execute_input	"2022-09-21T02:45:11.822114Z"
iopub.status.idle	"2022-09-21T02:45:11.883687Z"
shell.execute_reply.started	"2022-09-21T02:45:11.822073Z"
shell.execute_reply	"2022-09-21T02:45:11.882479Z"
trusted	true
execution_count	195
outputs	
0	
execution_count	195
output_type	"execute_result"
data	
text/plain	"0.8021015761821366"
metadata	{}
66	
cell_type	"code"
source	"knn.score(X_val_st, y_val)"
metadata	
execution	
iopub.status.busy	"2022-09-21T02:45:13.253089Z"
iopub.execute_input	"2022-09-21T02:45:13.253736Z"
iopub.status.idle	"2022-09-21T02:45:13.273699Z"
shell.execute_reply.started	"2022-09-21T02:45:13.253698Z"
shell.execute_reply	"2022-09-21T02:45:13.272499Z"
trusted	true
execution_count	196
outputs	
0	
execution_count	196
output_type	"execute_result"
data	
text/plain	"0.8321678321678322"
metadata	{}
67	
cell_type	"code"
source	"knn.fit(X_train_st, y_train)"
metadata	
execution	
iopub.status.busy	"2022-09-21T02:45:14.437136Z"
iopub.execute_input	"2022-09-21T02:45:14.437494Z"
iopub.status.idle	"2022-09-21T02:45:14.446002Z"
shell.execute_reply.started	"2022-09-21T02:45:14.437465Z"
shell.execute_reply	"2022-09-21T02:45:14.444923Z"
trusted	true
execution_count	197
outputs	
0	
execution_count	197
output_type	"execute_result"
data	
text/plain	"KNeighborsClassifier(n_neighbors=9)"
metadata	{}
68	
cell_type	"code"
source	"knn.score(X_train_st, y_train)"
metadata	
execution	
iopub.status.busy	"2022-09-21T02:45:15.702927Z"
iopub.execute_input	"2022-09-21T02:45:15.703577Z"
iopub.status.idle	"2022-09-21T02:45:15.766859Z"
shell.execute_reply.started	"2022-09-21T02:45:15.703541Z"
shell.execute_reply	"2022-09-21T02:45:15.765637Z"
trusted	true
execution_count	198
outputs	
0	
execution_count	198
output_type	"execute_result"
data	
text/plain	"0.8021015761821366"
metadata	{}
69	
cell_type	"code"
source	"knn.score(X_val_st, y_val)"
metadata	
execution	
iopub.status.busy	"2022-09-21T02:45:17.763989Z"
iopub.execute_input	"2022-09-21T02:45:17.764362Z"
iopub.status.idle	"2022-09-21T02:45:17.787232Z"
shell.execute_reply.started	"2022-09-21T02:45:17.764333Z"
shell.execute_reply	"2022-09-21T02:45:17.786082Z"
trusted	true
execution_count	199
outputs	
0	
execution_count	199
output_type	"execute_result"
data	
text/plain	"0.8321678321678322"
metadata	{}
70	
cell_type	"code"
source	""
metadata	{}
execution_count	null
outputs	[]
71	
cell_type	"code"
source	""
metadata	{}
execution_count	null
outputs	[]
72	
cell_type	"code"
source	"from sklearn.decomposition import PCA\npca = PCA(n_components=2)\nX_train_pca = pca.fit_transform(X_train_st)\nX_val_pca = pca.fit_transform(X_val_st)\n"
metadata	
execution	
iopub.status.busy	"2022-09-21T02:45:21.339650Z"
iopub.execute_input	"2022-09-21T02:45:21.340065Z"
iopub.status.idle	"2022-09-21T02:45:21.353998Z"
shell.execute_reply.started	"2022-09-21T02:45:21.340028Z"
shell.execute_reply	"2022-09-21T02:45:21.352502Z"
trusted	true
execution_count	200
outputs	[]
73	
cell_type	"code"
source	"from matplotlib.colors import ListedColormap\nimport matplotlib.pyplot as plt\n\ndef plot_decision_regions(X, y, classifier, test_idx= None, resolution = 0.2):\n    \"\"\"funcion para graficar\"\"\"\n    #marcador y mapas de colores\n    markers = ('s', 'x', 'o', '^', 'v')\n    colors = ('red', 'blue', 'lightgreen', 'gray', 'cyan')\n    cmap = ListedColormap(colors[:len(np.unique(y))])\n    \n    #repesenta la superficie de decisión\n    x1_min, x1_max = X[:, 0].min() - 1, X[:, 0].max() + 1\n    x2_min, x2_max = X[:, 1].min() - 1, X[:, 1].max() + 1\n    xx1, xx2 = np.meshgrid( np.arange(x1_min, x1_max, resolution), np.arange(x2_min, x2_max, resolution))\n    z = classifier.predict(np.array([xx1.ravel(), xx2.ravel()]).T)\n    z = z.reshape(xx1.shape)\n    plt.contourf(xx1, xx2, z, alpha= 0.3, cmap= cmap)\n    plt.xlim(xx1.min(), xx1.max())\n    plt.ylim(xx2.min(), xx2.max())\n    \n    for idx, cl in enumerate(np.unique(y)):\n        plt.scatter(x=X[y == cl, 0], y=X[y == cl, 1],\n                    alpha=0.8, c=colors[idx],\n                   marker=markers[idx], label=cl)\n        \n    #destaca las muestras de prueba\n    if test_idx:\n        # representa todas las muestras\n        X_test, Y_test = X[test_idx, :], y[test_idx]\n        \n        plt.scatter(X_test[:, 0], X_test[:, 1],\n                   c='red', edgecolor='purple', alpha=0.3,\n                   linewidths=1, marker='o',\n                   s=100, label='test set')"
metadata	
execution	
iopub.status.busy	"2022-09-21T02:45:22.654376Z"
iopub.execute_input	"2022-09-21T02:45:22.654740Z"
iopub.status.idle	"2022-09-21T02:45:22.667525Z"
shell.execute_reply.started	"2022-09-21T02:45:22.654709Z"
shell.execute_reply	"2022-09-21T02:45:22.666252Z"
trusted	true
execution_count	201
outputs	[]
74	
cell_type	"code"
source	"from sklearn.linear_model import LogisticRegression\nlr=LogisticRegression()"
metadata	
execution	
iopub.status.busy	"2022-09-21T02:45:23.987633Z"
iopub.execute_input	"2022-09-21T02:45:23.988012Z"
iopub.status.idle	"2022-09-21T02:45:23.992846Z"
shell.execute_reply.started	"2022-09-21T02:45:23.987980Z"
shell.execute_reply	"2022-09-21T02:45:23.991712Z"
trusted	true
execution_count	202
outputs	[]
75	
cell_type	"code"
source	"lr.fit(X_train_pca, y_train)"
metadata	
execution	
iopub.status.busy	"2022-09-21T02:45:25.144078Z"
iopub.execute_input	"2022-09-21T02:45:25.144430Z"
iopub.status.idle	"2022-09-21T02:45:25.157513Z"
shell.execute_reply.started	"2022-09-21T02:45:25.144399Z"
shell.execute_reply	"2022-09-21T02:45:25.156270Z"
trusted	true
execution_count	203
outputs	
0	
execution_count	203
output_type	"execute_result"
data	
text/plain	"LogisticRegression()"
metadata	{}
76	
cell_type	"code"
source	"plot_decision_regions(X_train_pca, y_train, classifier=lr)"
metadata	
execution	
iopub.status.busy	"2022-09-21T02:45:26.577301Z"
iopub.execute_input	"2022-09-21T02:45:26.577670Z"
iopub.status.idle	"2022-09-21T02:45:26.795332Z"
shell.execute_reply.started	"2022-09-21T02:45:26.577636Z"
shell.execute_reply	"2022-09-21T02:45:26.794426Z"
trusted	true
execution_count	204
outputs	
0	
output_type	"display_data"
data	
text/plain	"<Figure size 432x288 with 1 Axes>"
image/png	"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\n"
metadata	
needs_background	"light"
77	
cell_type	"code"
source	"lr.fit(X_train_st, y_train)"
metadata	
execution	
iopub.status.busy	"2022-09-21T02:45:30.944479Z"
iopub.execute_input	"2022-09-21T02:45:30.944847Z"
iopub.status.idle	"2022-09-21T02:45:30.961030Z"
shell.execute_reply.started	"2022-09-21T02:45:30.944816Z"
shell.execute_reply	"2022-09-21T02:45:30.960078Z"
trusted	true
execution_count	205
outputs	
0	
execution_count	205
output_type	"execute_result"
data	
text/plain	"LogisticRegression()"
metadata	{}
78	
cell_type	"code"
source	"print(\"Accuracy: \",100*(lr.score(X_val_st, y_val)))"
metadata	
execution	
iopub.status.busy	"2022-09-21T02:45:32.606921Z"
iopub.execute_input	"2022-09-21T02:45:32.607581Z"
iopub.status.idle	"2022-09-21T02:45:32.613946Z"
shell.execute_reply.started	"2022-09-21T02:45:32.607545Z"
shell.execute_reply	"2022-09-21T02:45:32.612909Z"
trusted	true
execution_count	206
outputs	
0	
name	"stdout"
text	"Accuracy:  86.7132867132867\n"
output_type	"stream"
79	
cell_type	"code"
source	"from sklearn.svm import SVC"
metadata	
execution	
iopub.status.busy	"2022-09-21T02:45:35.254355Z"
iopub.execute_input	"2022-09-21T02:45:35.254718Z"
iopub.status.idle	"2022-09-21T02:45:35.259431Z"
shell.execute_reply.started	"2022-09-21T02:45:35.254688Z"
shell.execute_reply	"2022-09-21T02:45:35.258294Z"
trusted	true
execution_count	207
outputs	[]
80	
cell_type	"code"
source	"svm = SVC(kernel='rbf', random_state=1, gamma=0.1, C=10)"
metadata	
execution	
iopub.status.busy	"2022-09-21T02:45:36.467318Z"
iopub.execute_input	"2022-09-21T02:45:36.467673Z"
iopub.status.idle	"2022-09-21T02:45:36.472584Z"
shell.execute_reply.started	"2022-09-21T02:45:36.467642Z"
shell.execute_reply	"2022-09-21T02:45:36.471559Z"
trusted	true
execution_count	208
outputs	[]
81	
cell_type	"code"
source	"svm.fit(X_train_pca, y_train)"
metadata	
execution	
iopub.status.busy	"2022-09-21T02:45:37.746913Z"
iopub.execute_input	"2022-09-21T02:45:37.749333Z"
iopub.status.idle	"2022-09-21T02:45:37.771904Z"
shell.execute_reply.started	"2022-09-21T02:45:37.749236Z"
shell.execute_reply	"2022-09-21T02:45:37.770862Z"
trusted	true
execution_count	209
outputs	
0	
execution_count	209
output_type	"execute_result"
data	
text/plain	"SVC(C=10, gamma=0.1, random_state=1)"
metadata	{}
82	
cell_type	"code"
source	"plot_decision_regions(X_train_pca, y_train, classifier=svm)"
metadata	
execution	
iopub.status.busy	"2022-09-21T02:45:39.019890Z"
iopub.execute_input	"2022-09-21T02:45:39.020561Z"
iopub.status.idle	"2022-09-21T02:45:39.277702Z"
shell.execute_reply.started	"2022-09-21T02:45:39.020523Z"
shell.execute_reply	"2022-09-21T02:45:39.276818Z"
trusted	true
execution_count	210
outputs	
0	
output_type	"display_data"
data	
text/plain	"<Figure size 432x288 with 1 Axes>"
image/png	"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\n"
metadata	
needs_background	"light"
83	
cell_type	"code"
source	"svm.fit(X_train_st, y_train)"
metadata	
execution	
iopub.status.busy	"2022-09-21T02:45:43.953040Z"
iopub.execute_input	"2022-09-21T02:45:43.953393Z"
iopub.status.idle	"2022-09-21T02:45:43.972640Z"
shell.execute_reply.started	"2022-09-21T02:45:43.953362Z"
shell.execute_reply	"2022-09-21T02:45:43.971624Z"
trusted	true
execution_count	211
outputs	
0	
execution_count	211
output_type	"execute_result"
data	
text/plain	"SVC(C=10, gamma=0.1, random_state=1)"
metadata	{}
84	
cell_type	"code"
source	"print(\"Accuracy: \",100*(svm.score(X_val_st, y_val)))"
metadata	
execution	
iopub.status.busy	"2022-09-21T02:45:45.880349Z"
iopub.execute_input	"2022-09-21T02:45:45.880701Z"
iopub.status.idle	"2022-09-21T02:45:45.890088Z"
shell.execute_reply.started	"2022-09-21T02:45:45.880669Z"
shell.execute_reply	"2022-09-21T02:45:45.889048Z"
trusted	true
execution_count	212
outputs	
0	
name	"stdout"
text	"Accuracy:  81.81818181818183\n"
output_type	"stream"
85	
cell_type	"code"
source	"from sklearn.ensemble import RandomForestClassifier\nforest = RandomForestClassifier(criterion = 'gini',\n                                n_estimators=100,\n                                random_state=1,\n                                n_jobs=2, max_depth= 10\n                               )"
metadata	
execution	
iopub.status.busy	"2022-09-21T02:47:15.117187Z"
iopub.execute_input	"2022-09-21T02:47:15.117540Z"
iopub.status.idle	"2022-09-21T02:47:15.123193Z"
shell.execute_reply.started	"2022-09-21T02:47:15.117509Z"
shell.execute_reply	"2022-09-21T02:47:15.122081Z"
trusted	true
execution_count	233
outputs	[]
86	
cell_type	"code"
source	"forest.fit(X_train, y_train)"
metadata	
execution	
iopub.status.busy	"2022-09-21T02:47:16.658226Z"
iopub.execute_input	"2022-09-21T02:47:16.658594Z"
iopub.status.idle	"2022-09-21T02:47:16.908434Z"
shell.execute_reply.started	"2022-09-21T02:47:16.658562Z"
shell.execute_reply	"2022-09-21T02:47:16.907517Z"
trusted	true
execution_count	234
outputs	
0	
execution_count	234
output_type	"execute_result"
data	
text/plain	"RandomForestClassifier(max_depth=10, n_jobs=2, random_state=1)"
metadata	{}
87	
cell_type	"code"
source	"forest.score(X_train, y_train)"
metadata	
execution	
iopub.status.busy	"2022-09-21T02:47:18.137973Z"
iopub.execute_input	"2022-09-21T02:47:18.138328Z"
iopub.status.idle	"2022-09-21T02:47:18.250280Z"
shell.execute_reply.started	"2022-09-21T02:47:18.138298Z"
shell.execute_reply	"2022-09-21T02:47:18.249419Z"
trusted	true
execution_count	235
outputs	
0	
execution_count	235
output_type	"execute_result"
data	
text/plain	"0.9614711033274956"
metadata	{}
88	
cell_type	"code"
source	"forest.score(X_val, y_val)"
metadata	
execution	
iopub.status.busy	"2022-09-21T02:47:19.951212Z"
iopub.execute_input	"2022-09-21T02:47:19.951571Z"
iopub.status.idle	"2022-09-21T02:47:20.062225Z"
shell.execute_reply.started	"2022-09-21T02:47:19.951540Z"
shell.execute_reply	"2022-09-21T02:47:20.061108Z"
trusted	true
execution_count	236
outputs	
0	
execution_count	236
output_type	"execute_result"
data	
text/plain	"0.8461538461538461"
metadata	{}
89	
cell_type	"markdown"
source	"----------------------------------------------------------------------"
metadata	{}
90	
cell_type	"code"
source	"test_data"
metadata	
execution	
iopub.status.busy	"2022-09-21T02:47:24.467827Z"
iopub.execute_input	"2022-09-21T02:47:24.468225Z"
iopub.status.idle	"2022-09-21T02:47:24.491845Z"
shell.execute_reply.started	"2022-09-21T02:47:24.468192Z"
shell.execute_reply	"2022-09-21T02:47:24.490930Z"
trusted	true
execution_count	237
outputs	
0	
execution_count	237
output_type	"execute_result"
data	
text/plain	"     PassengerId  Pclass                                          Name  \\\n0            892       3                              Kelly, Mr. James   \n1            893       3              Wilkes, Mrs. James (Ellen Needs)   \n2            894       2                     Myles, Mr. Thomas Francis   \n3            895       3                              Wirz, Mr. Albert   \n4            896       3  Hirvonen, Mrs. Alexander (Helga E Lindqvist)   \n..           ...     ...                                           ...   \n413         1305       3                            Spector, Mr. Woolf   \n414         1306       1                  Oliva y Ocana, Dona. Fermina   \n415         1307       3                  Saether, Mr. Simon Sivertsen   \n416         1308       3                           Ware, Mr. Frederick   \n417         1309       3                      Peter, Master. Michael J   \n\n        Sex   Age  SibSp  Parch              Ticket      Fare Cabin Embarked  \n0      male  34.5      0      0              330911    7.8292   NaN        Q  \n1    female  47.0      1      0              363272    7.0000   NaN        S  \n2      male  62.0      0      0              240276    9.6875   NaN        Q  \n3      male  27.0      0      0              315154    8.6625   NaN        S  \n4    female  22.0      1      1             3101298   12.2875   NaN        S  \n..      ...   ...    ...    ...                 ...       ...   ...      ...  \n413    male   NaN      0      0           A.5. 3236    8.0500   NaN        S  \n414  female  39.0      0      0            PC 17758  108.9000  C105        C  \n415    male  38.5      0      0  SOTON/O.Q. 3101262    7.2500   NaN        S  \n416    male   NaN      0      0              359309    8.0500   NaN        S  \n417    male   NaN      1      1                2668   22.3583   NaN        C  \n\n[418 rows x 11 columns]"
text/html	"<div>\n<style scoped>\n    .dataframe tbody tr th:only-of-type {\n        vertical-align: middle;\n    }\n\n    .dataframe tbody tr th {\n        vertical-align: top;\n    }\n\n    .dataframe thead th {\n        text-align: right;\n    }\n</style>\n<table border=\"1\" class=\"dataframe\">\n  <thead>\n    <tr style=\"text-align: right;\">\n      <th></th>\n      <th>PassengerId</th>\n      <th>Pclass</th>\n      <th>Name</th>\n      <th>Sex</th>\n      <th>Age</th>\n      <th>SibSp</th>\n      <th>Parch</th>\n      <th>Ticket</th>\n      <th>Fare</th>\n      <th>Cabin</th>\n      <th>Embarked</th>\n    </tr>\n  </thead>\n  <tbody>\n    <tr>\n      <th>0</th>\n      <td>892</td>\n      <td>3</td>\n      <td>Kelly, Mr. James</td>\n      <td>male</td>\n      <td>34.5</td>\n      <td>0</td>\n      <td>0</td>\n      <td>330911</td>\n      <td>7.8292</td>\n      <td>NaN</td>\n      <td>Q</td>\n    </tr>\n    <tr>\n      <th>1</th>\n      <td>893</td>\n      <td>3</td>\n      <td>Wilkes, Mrs. James (Ellen Needs)</td>\n      <td>female</td>\n      <td>47.0</td>\n      <td>1</td>\n      <td>0</td>\n      <td>363272</td>\n      <td>7.0000</td>\n      <td>NaN</td>\n      <td>S</td>\n    </tr>\n    <tr>\n      <th>2</th>\n      <td>894</td>\n      <td>2</td>\n      <td>Myles, Mr. Thomas Francis</td>\n      <td>male</td>\n      <td>62.0</td>\n      <td>0</td>\n      <td>0</td>\n      <td>240276</td>\n      <td>9.6875</td>\n      <td>NaN</td>\n      <td>Q</td>\n    </tr>\n    <tr>\n      <th>3</th>\n      <td>895</td>\n      <td>3</td>\n      <td>Wirz, Mr. Albert</td>\n      <td>male</td>\n      <td>27.0</td>\n      <td>0</td>\n      <td>0</td>\n      <td>315154</td>\n      <td>8.6625</td>\n      <td>NaN</td>\n      <td>S</td>\n    </tr>\n    <tr>\n      <th>4</th>\n      <td>896</td>\n      <td>3</td>\n      <td>Hirvonen, Mrs. Alexander (Helga E Lindqvist)</td>\n      <td>female</td>\n      <td>22.0</td>\n      <td>1</td>\n      <td>1</td>\n      <td>3101298</td>\n      <td>12.2875</td>\n      <td>NaN</td>\n      <td>S</td>\n    </tr>\n    <tr>\n      <th>...</th>\n      <td>...</td>\n      <td>...</td>\n      <td>...</td>\n      <td>...</td>\n      <td>...</td>\n      <td>...</td>\n      <td>...</td>\n      <td>...</td>\n      <td>...</td>\n      <td>...</td>\n      <td>...</td>\n    </tr>\n    <tr>\n      <th>413</th>\n      <td>1305</td>\n      <td>3</td>\n      <td>Spector, Mr. Woolf</td>\n      <td>male</td>\n      <td>NaN</td>\n      <td>0</td>\n      <td>0</td>\n      <td>A.5. 3236</td>\n      <td>8.0500</td>\n      <td>NaN</td>\n      <td>S</td>\n    </tr>\n    <tr>\n      <th>414</th>\n      <td>1306</td>\n      <td>1</td>\n      <td>Oliva y Ocana, Dona. Fermina</td>\n      <td>female</td>\n      <td>39.0</td>\n      <td>0</td>\n      <td>0</td>\n      <td>PC 17758</td>\n      <td>108.9000</td>\n      <td>C105</td>\n      <td>C</td>\n    </tr>\n    <tr>\n      <th>415</th>\n      <td>1307</td>\n      <td>3</td>\n      <td>Saether, Mr. Simon Sivertsen</td>\n      <td>male</td>\n      <td>38.5</td>\n      <td>0</td>\n      <td>0</td>\n      <td>SOTON/O.Q. 3101262</td>\n      <td>7.2500</td>\n      <td>NaN</td>\n      <td>S</td>\n    </tr>\n    <tr>\n      <th>416</th>\n      <td>1308</td>\n      <td>3</td>\n      <td>Ware, Mr. Frederick</td>\n      <td>male</td>\n      <td>NaN</td>\n      <td>0</td>\n      <td>0</td>\n      <td>359309</td>\n      <td>8.0500</td>\n      <td>NaN</td>\n      <td>S</td>\n    </tr>\n    <tr>\n      <th>417</th>\n      <td>1309</td>\n      <td>3</td>\n      <td>Peter, Master. Michael J</td>\n      <td>male</td>\n      <td>NaN</td>\n      <td>1</td>\n      <td>1</td>\n      <td>2668</td>\n      <td>22.3583</td>\n      <td>NaN</td>\n      <td>C</td>\n    </tr>\n  </tbody>\n</table>\n<p>418 rows × 11 columns</p>\n</div>"
metadata	{}
91	
cell_type	"code"
source	"puert_em = pd.get_dummies(test_data[['Embarked']])"
metadata	
trusted	true
execution_count	null
outputs	[]
92	
cell_type	"code"
source	"test_data = test_data.drop(['Embarked'], axis=1)"
metadata	
trusted	true
execution_count	null
outputs	[]
93	
cell_type	"code"
source	"test_data = pd.concat([test_data, puert_em], axis=1)"
metadata	
trusted	true
execution_count	null
outputs	[]
94	
cell_type	"code"
source	"Sex = pd.get_dummies(test_data[['Sex']])"
metadata	
trusted	true
execution_count	null
outputs	[]
95	
cell_type	"code"
source	"test_data = test_data.drop(['Sex'], axis=1)"
metadata	
trusted	true
execution_count	null
outputs	[]
96	
cell_type	"code"
source	"test_data = pd.concat([test_data, Sex], axis=1)"
metadata	
trusted	true
execution_count	null
outputs	[]
97	
cell_type	"code"
source	"test_data"
metadata	
trusted	true
execution_count	null
outputs	[]
98	
cell_type	"code"
source	"test_data = test_data.drop(['Ticket'], axis=1)\ntest_data = test_data.drop(['Name'], axis=1)"
metadata	
trusted	true
execution_count	null
outputs	[]
99	
cell_type	"code"
source	"test_data = test_data.drop(['Cabin'], axis=1)"
metadata	
trusted	true
execution_count	null
outputs	[]
100	
cell_type	"code"
source	"#imputamos la columna Age\nfrom sklearn.impute import SimpleImputer\ns_imp = SimpleImputer(missing_values=np.nan, strategy='mean')\nimp = s_imp.fit(test_data.values)\nimp_t = imp.transform(test_data.values)\nimputad = pd.DataFrame(imp_t)\ntest_data['Age'] = imputad[2].values"
metadata	
trusted	true
execution_count	null
outputs	[]
101	
cell_type	"code"
source	"test_data"
metadata	
trusted	true
execution_count	null
outputs	[]
102	
cell_type	"code"
source	"test_data = test_data.drop(['Ticket'], axis=1)\ntest_data = test_data.drop(['Name'], axis=1)"
metadata	{}
execution_count	null
outputs	[]
103	
cell_type	"code"
source	""
metadata	{}
execution_count	null
outputs	[]
104	
cell_type	"code"
source	""
metadata	{}
execution_count	null
outputs	[]
105	
cell_type	"code"
source	""
metadata	{}
execution_count	null
outputs	[]
106	
cell_type	"code"
source	"forest.predict(test_data)"
metadata	
trusted	true
execution_count	null
outputs	[]
107	
cell_type	"code"
source	"#output = pd.DataFrame({\"PassengerId\" :test_data.PassengerId, \"Survived\":pd.Series(forest.predict(test_data))})"
metadata	
trusted	true
execution_count	null
outputs	[]
108	
cell_type	"code"
source	"#output.to_csv('submission.csv', index=False)"
metadata	
trusted	true
execution_count	null
outputs	[]
109	
cell_type	"code"
source	"#output"
metadata	
trusted	true
execution_count	null
outputs	[]
110	
cell_type	"code"
source	""
metadata	{}
execution_count	null
outputs	[]
